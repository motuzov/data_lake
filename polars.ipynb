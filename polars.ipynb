{
 "cells": [
  {
   "cell_type": "code",
   "execution_count": null,
   "id": "5c667f14-a9a7-41f2-bca1-c0c88acbc155",
   "metadata": {
    "editable": true,
    "slideshow": {
     "slide_type": ""
    },
    "tags": []
   },
   "outputs": [],
   "source": [
    "! pip install polars[all]"
   ]
  },
  {
   "cell_type": "code",
   "execution_count": 1,
   "id": "f3ff67a7-a362-4f20-a515-eeb2604bbb15",
   "metadata": {},
   "outputs": [],
   "source": [
    "import polars as pl"
   ]
  },
  {
   "cell_type": "code",
   "execution_count": 2,
   "id": "689ae280-9578-4bed-a5ea-751e341f6ee1",
   "metadata": {},
   "outputs": [
    {
     "name": "stdout",
     "output_type": "stream",
     "text": [
      "shape: (5, 3)\n",
      "┌─────────┬─────────────────────┬───────┐\n",
      "│ integer ┆ date                ┆ float │\n",
      "│ ---     ┆ ---                 ┆ ---   │\n",
      "│ i64     ┆ datetime[μs]        ┆ f64   │\n",
      "╞═════════╪═════════════════════╪═══════╡\n",
      "│ 1       ┆ 2022-01-01 00:00:00 ┆ 4.0   │\n",
      "│ 2       ┆ 2022-01-02 00:00:00 ┆ 5.0   │\n",
      "│ 3       ┆ 2022-01-03 00:00:00 ┆ 6.0   │\n",
      "│ 4       ┆ 2022-01-04 00:00:00 ┆ 7.0   │\n",
      "│ 5       ┆ 2022-01-05 00:00:00 ┆ 8.0   │\n",
      "└─────────┴─────────────────────┴───────┘\n"
     ]
    }
   ],
   "source": [
    "from datetime import datetime\n",
    "\n",
    "df = pl.DataFrame(\n",
    "    {\n",
    "        \"integer\": [1, 2, 3, 4, 5],\n",
    "        \"date\": [\n",
    "            datetime(2022, 1, 1),\n",
    "            datetime(2022, 1, 2),\n",
    "            datetime(2022, 1, 3),\n",
    "            datetime(2022, 1, 4),\n",
    "            datetime(2022, 1, 5),\n",
    "        ],\n",
    "        \"float\": [4.0, 5.0, 6.0, 7.0, 8.0],\n",
    "    }\n",
    ")\n",
    "\n",
    "print(df)"
   ]
  },
  {
   "cell_type": "code",
   "execution_count": 3,
   "id": "e8d70d44-01af-425a-8592-29364a0b3f41",
   "metadata": {},
   "outputs": [],
   "source": [
    "df1 = pl.DataFrame(\n",
    "    {\n",
    "        \"integer\": [1, 1, 2, 3, 3],\n",
    "        \"float\": [4.0, 5.0, 6.0, 7.0, 8.0],\n",
    "    }\n",
    ")\n",
    "df2 = pl.DataFrame(\n",
    "    {\n",
    "        \"integer\": [1, 3],\n",
    "        \"float\": [14, 16],\n",
    "    }\n",
    ")"
   ]
  },
  {
   "cell_type": "code",
   "execution_count": 4,
   "id": "4816c173-cce3-40c4-ad91-63eb7b4c3de5",
   "metadata": {},
   "outputs": [
    {
     "data": {
      "text/html": [
       "<div><style>\n",
       ".dataframe > thead > tr > th,\n",
       ".dataframe > tbody > tr > td {\n",
       "  text-align: right;\n",
       "  white-space: pre-wrap;\n",
       "}\n",
       "</style>\n",
       "<small>shape: (4, 3)</small><table border=\"1\" class=\"dataframe\"><thead><tr><th>integer</th><th>float</th><th>float_right</th></tr><tr><td>i64</td><td>i64</td><td>f64</td></tr></thead><tbody><tr><td>1</td><td>14</td><td>4.0</td></tr><tr><td>1</td><td>14</td><td>5.0</td></tr><tr><td>3</td><td>16</td><td>7.0</td></tr><tr><td>3</td><td>16</td><td>8.0</td></tr></tbody></table></div>"
      ],
      "text/plain": [
       "shape: (4, 3)\n",
       "┌─────────┬───────┬─────────────┐\n",
       "│ integer ┆ float ┆ float_right │\n",
       "│ ---     ┆ ---   ┆ ---         │\n",
       "│ i64     ┆ i64   ┆ f64         │\n",
       "╞═════════╪═══════╪═════════════╡\n",
       "│ 1       ┆ 14    ┆ 4.0         │\n",
       "│ 1       ┆ 14    ┆ 5.0         │\n",
       "│ 3       ┆ 16    ┆ 7.0         │\n",
       "│ 3       ┆ 16    ┆ 8.0         │\n",
       "└─────────┴───────┴─────────────┘"
      ]
     },
     "execution_count": 4,
     "metadata": {},
     "output_type": "execute_result"
    }
   ],
   "source": [
    "df2.join(df1, on='integer', how='left')"
   ]
  },
  {
   "cell_type": "code",
   "execution_count": 5,
   "id": "0d97aa4d-183f-4dab-a8b7-ffb0cbc4aadc",
   "metadata": {},
   "outputs": [],
   "source": [
    "lz_df = (\n",
    "    pl.scan_parquet('data/nyc_taxi/fhvhv_tripdata_*.parquet')\n",
    "    .select(pl.col('dispatching_base_num'))\n",
    "    .group_by(\"dispatching_base_num\", maintain_order=True).agg(pl.count())\n",
    "    #.group_by(\"dispatching_base_num\", maintain_order=True).agg(pl.count())\n",
    "    #.select(pl.count())\n",
    ")"
   ]
  },
  {
   "cell_type": "code",
   "execution_count": 6,
   "id": "9fb6f668-36bf-44e0-84f8-ed25a2cef8d8",
   "metadata": {},
   "outputs": [
    {
     "data": {
      "text/plain": [
       "'AGGREGATE\\n\\t[count()] BY [col(\"dispatching_base_num\")] FROM\\n  FAST_PROJECT: [dispatching_base_num]\\n    UNION\\n      PLAN 0:\\n        FAST_PROJECT: [dispatching_base_num]\\n\\n            Parquet SCAN data/nyc_taxi/fhvhv_tripdata_2021-02.parquet\\n            PROJECT 1/24 COLUMNS\\n      PLAN 1:\\n        FAST_PROJECT: [dispatching_base_num]\\n\\n            Parquet SCAN data/nyc_taxi/fhvhv_tripdata_2021-03.parquet\\n            PROJECT 1/24 COLUMNS\\n      PLAN 2:\\n        FAST_PROJECT: [dispatching_base_num]\\n\\n            Parquet SCAN data/nyc_taxi/fhvhv_tripdata_2021-04.parquet\\n            PROJECT 1/24 COLUMNS\\n      PLAN 3:\\n        FAST_PROJECT: [dispatching_base_num]\\n\\n            Parquet SCAN data/nyc_taxi/fhvhv_tripdata_2021-05.parquet\\n            PROJECT 1/24 COLUMNS\\n      PLAN 4:\\n        FAST_PROJECT: [dispatching_base_num]\\n\\n            Parquet SCAN data/nyc_taxi/fhvhv_tripdata_2021-06.parquet\\n            PROJECT 1/24 COLUMNS\\n      PLAN 5:\\n        FAST_PROJECT: [dispatching_base_num]\\n\\n            Parquet SCAN data/nyc_taxi/fhvhv_tripdata_2021-07.parquet\\n            PROJECT 1/24 COLUMNS\\n      PLAN 6:\\n        FAST_PROJECT: [dispatching_base_num]\\n\\n            Parquet SCAN data/nyc_taxi/fhvhv_tripdata_2021-08.parquet\\n            PROJECT 1/24 COLUMNS\\n      PLAN 7:\\n        FAST_PROJECT: [dispatching_base_num]\\n\\n            Parquet SCAN data/nyc_taxi/fhvhv_tripdata_2021-09.parquet\\n            PROJECT 1/24 COLUMNS\\n      PLAN 8:\\n        FAST_PROJECT: [dispatching_base_num]\\n\\n            Parquet SCAN data/nyc_taxi/fhvhv_tripdata_2021-10.parquet\\n            PROJECT 1/24 COLUMNS\\n      PLAN 9:\\n        FAST_PROJECT: [dispatching_base_num]\\n\\n            Parquet SCAN data/nyc_taxi/fhvhv_tripdata_2021-11.parquet\\n            PROJECT 1/24 COLUMNS\\n      PLAN 10:\\n        FAST_PROJECT: [dispatching_base_num]\\n\\n            Parquet SCAN data/nyc_taxi/fhvhv_tripdata_2021-12.parquet\\n            PROJECT 1/24 COLUMNS\\n      PLAN 11:\\n        FAST_PROJECT: [dispatching_base_num]\\n\\n            Parquet SCAN data/nyc_taxi/fhvhv_tripdata_2022-01.parquet\\n            PROJECT 1/24 COLUMNS\\n      PLAN 12:\\n        FAST_PROJECT: [dispatching_base_num]\\n\\n            Parquet SCAN data/nyc_taxi/fhvhv_tripdata_2022-02.parquet\\n            PROJECT 1/24 COLUMNS\\n      PLAN 13:\\n        FAST_PROJECT: [dispatching_base_num]\\n\\n            Parquet SCAN data/nyc_taxi/fhvhv_tripdata_2022-03.parquet\\n            PROJECT 1/24 COLUMNS\\n      PLAN 14:\\n        FAST_PROJECT: [dispatching_base_num]\\n\\n            Parquet SCAN data/nyc_taxi/fhvhv_tripdata_2022-04.parquet\\n            PROJECT 1/24 COLUMNS\\n      PLAN 15:\\n        FAST_PROJECT: [dispatching_base_num]\\n\\n            Parquet SCAN data/nyc_taxi/fhvhv_tripdata_2022-05.parquet\\n            PROJECT 1/24 COLUMNS\\n      PLAN 16:\\n        FAST_PROJECT: [dispatching_base_num]\\n\\n            Parquet SCAN data/nyc_taxi/fhvhv_tripdata_2022-06.parquet\\n            PROJECT 1/24 COLUMNS\\n      PLAN 17:\\n        FAST_PROJECT: [dispatching_base_num]\\n\\n            Parquet SCAN data/nyc_taxi/fhvhv_tripdata_2022-07.parquet\\n            PROJECT 1/24 COLUMNS\\n      PLAN 18:\\n        FAST_PROJECT: [dispatching_base_num]\\n\\n            Parquet SCAN data/nyc_taxi/fhvhv_tripdata_2022-08.parquet\\n            PROJECT 1/24 COLUMNS\\n      PLAN 19:\\n        FAST_PROJECT: [dispatching_base_num]\\n\\n            Parquet SCAN data/nyc_taxi/fhvhv_tripdata_2022-09.parquet\\n            PROJECT 1/24 COLUMNS\\n      PLAN 20:\\n        FAST_PROJECT: [dispatching_base_num]\\n\\n            Parquet SCAN data/nyc_taxi/fhvhv_tripdata_2022-10.parquet\\n            PROJECT 1/24 COLUMNS\\n      PLAN 21:\\n        FAST_PROJECT: [dispatching_base_num]\\n\\n            Parquet SCAN data/nyc_taxi/fhvhv_tripdata_2022-11.parquet\\n            PROJECT 1/24 COLUMNS\\n      PLAN 22:\\n        FAST_PROJECT: [dispatching_base_num]\\n\\n            Parquet SCAN data/nyc_taxi/fhvhv_tripdata_2022-12.parquet\\n            PROJECT 1/24 COLUMNS\\n      PLAN 23:\\n        FAST_PROJECT: [dispatching_base_num]\\n\\n            Parquet SCAN data/nyc_taxi/fhvhv_tripdata_2023-01.parquet\\n            PROJECT 1/24 COLUMNS\\n      PLAN 24:\\n        FAST_PROJECT: [dispatching_base_num]\\n\\n            Parquet SCAN data/nyc_taxi/fhvhv_tripdata_2023-02.parquet\\n            PROJECT 1/24 COLUMNS\\n      PLAN 25:\\n        FAST_PROJECT: [dispatching_base_num]\\n\\n            Parquet SCAN data/nyc_taxi/fhvhv_tripdata_2023-03.parquet\\n            PROJECT 1/24 COLUMNS\\n      PLAN 26:\\n        FAST_PROJECT: [dispatching_base_num]\\n\\n            Parquet SCAN data/nyc_taxi/fhvhv_tripdata_2023-04.parquet\\n            PROJECT 1/24 COLUMNS\\n      PLAN 27:\\n        FAST_PROJECT: [dispatching_base_num]\\n\\n            Parquet SCAN data/nyc_taxi/fhvhv_tripdata_2023-05.parquet\\n            PROJECT 1/24 COLUMNS\\n      PLAN 28:\\n        FAST_PROJECT: [dispatching_base_num]\\n\\n            Parquet SCAN data/nyc_taxi/fhvhv_tripdata_2023-06.parquet\\n            PROJECT 1/24 COLUMNS\\n    END UNION'"
      ]
     },
     "execution_count": 6,
     "metadata": {},
     "output_type": "execute_result"
    }
   ],
   "source": [
    "lz_df.explain()"
   ]
  },
  {
   "cell_type": "code",
   "execution_count": 7,
   "id": "8eacd2dc-5664-4e8b-9b45-9de615678217",
   "metadata": {},
   "outputs": [
    {
     "name": "stdout",
     "output_type": "stream",
     "text": [
      "CPU times: user 51.8 s, sys: 10.6 s, total: 1min 2s\n",
      "Wall time: 6.66 s\n"
     ]
    },
    {
     "data": {
      "text/html": [
       "<div><style>\n",
       ".dataframe > thead > tr > th,\n",
       ".dataframe > tbody > tr > td {\n",
       "  text-align: right;\n",
       "  white-space: pre-wrap;\n",
       "}\n",
       "</style>\n",
       "<small>shape: (34, 2)</small><table border=\"1\" class=\"dataframe\"><thead><tr><th>dispatching_base_num</th><th>count</th></tr><tr><td>str</td><td>u32</td></tr></thead><tbody><tr><td>&quot;B02764&quot;</td><td>11192632</td></tr><tr><td>&quot;B02510&quot;</td><td>31052693</td></tr><tr><td>&quot;B02872&quot;</td><td>9337432</td></tr><tr><td>&quot;B02888&quot;</td><td>1887161</td></tr><tr><td>&quot;B02800&quot;</td><td>767254</td></tr><tr><td>&quot;B02883&quot;</td><td>2564640</td></tr><tr><td>&quot;B02867&quot;</td><td>1963688</td></tr><tr><td>&quot;B02864&quot;</td><td>3011766</td></tr><tr><td>&quot;B02835&quot;</td><td>2068662</td></tr><tr><td>&quot;B02869&quot;</td><td>4416916</td></tr><tr><td>&quot;B02878&quot;</td><td>2948334</td></tr><tr><td>&quot;B02836&quot;</td><td>1358134</td></tr><tr><td>&hellip;</td><td>&hellip;</td></tr><tr><td>&quot;B02875&quot;</td><td>7573142</td></tr><tr><td>&quot;B02395&quot;</td><td>1086744</td></tr><tr><td>&quot;B02876&quot;</td><td>2278857</td></tr><tr><td>&quot;B02871&quot;</td><td>3049877</td></tr><tr><td>&quot;B02882&quot;</td><td>2413416</td></tr><tr><td>&quot;B02889&quot;</td><td>1529188</td></tr><tr><td>&quot;B02880&quot;</td><td>1268431</td></tr><tr><td>&quot;B02865&quot;</td><td>829441</td></tr><tr><td>&quot;B02844&quot;</td><td>34422</td></tr><tr><td>&quot;B03136&quot;</td><td>14550</td></tr><tr><td>&quot;B03406&quot;</td><td>103673148</td></tr><tr><td>&quot;B03404&quot;</td><td>267280861</td></tr></tbody></table></div>"
      ],
      "text/plain": [
       "shape: (34, 2)\n",
       "┌──────────────────────┬───────────┐\n",
       "│ dispatching_base_num ┆ count     │\n",
       "│ ---                  ┆ ---       │\n",
       "│ str                  ┆ u32       │\n",
       "╞══════════════════════╪═══════════╡\n",
       "│ B02764               ┆ 11192632  │\n",
       "│ B02510               ┆ 31052693  │\n",
       "│ B02872               ┆ 9337432   │\n",
       "│ B02888               ┆ 1887161   │\n",
       "│ …                    ┆ …         │\n",
       "│ B02844               ┆ 34422     │\n",
       "│ B03136               ┆ 14550     │\n",
       "│ B03406               ┆ 103673148 │\n",
       "│ B03404               ┆ 267280861 │\n",
       "└──────────────────────┴───────────┘"
      ]
     },
     "execution_count": 7,
     "metadata": {},
     "output_type": "execute_result"
    }
   ],
   "source": [
    "%%time\n",
    "lz_df.collect()"
   ]
  },
  {
   "cell_type": "code",
   "execution_count": 4,
   "id": "04975b6a-2d1e-473b-bb48-883653eca035",
   "metadata": {},
   "outputs": [],
   "source": [
    "lz_df = (\n",
    "    pl.scan_parquet('data/nyc_taxi/fhvhv_tripdata_*.parquet')\n",
    "    .select(pl.col('hvfhs_license_num'), pl.col('driver_pay'))\n",
    "    .filter(pl.col('hvfhs_license_num') == 'HV0003')\n",
    ")"
   ]
  },
  {
   "cell_type": "code",
   "execution_count": 10,
   "id": "eac4d123-15ed-4ebe-9806-a7c1e0067cd6",
   "metadata": {},
   "outputs": [
    {
     "data": {
      "text/plain": [
       "'FAST_PROJECT: [hvfhs_license_num, driver_pay]\\n  UNION\\n    PLAN 0:\\n      FAST_PROJECT: [hvfhs_license_num, driver_pay]\\n\\n          Parquet SCAN data/nyc_taxi/fhvhv_tripdata_2021-02.parquet\\n          PROJECT 2/24 COLUMNS\\n          SELECTION: [(col(\"hvfhs_license_num\")) == (Utf8(HV0003))]\\n    PLAN 1:\\n      FAST_PROJECT: [hvfhs_license_num, driver_pay]\\n\\n          Parquet SCAN data/nyc_taxi/fhvhv_tripdata_2021-03.parquet\\n          PROJECT 2/24 COLUMNS\\n          SELECTION: [(col(\"hvfhs_license_num\")) == (Utf8(HV0003))]\\n    PLAN 2:\\n      FAST_PROJECT: [hvfhs_license_num, driver_pay]\\n\\n          Parquet SCAN data/nyc_taxi/fhvhv_tripdata_2021-04.parquet\\n          PROJECT 2/24 COLUMNS\\n          SELECTION: [(col(\"hvfhs_license_num\")) == (Utf8(HV0003))]\\n    PLAN 3:\\n      FAST_PROJECT: [hvfhs_license_num, driver_pay]\\n\\n          Parquet SCAN data/nyc_taxi/fhvhv_tripdata_2021-05.parquet\\n          PROJECT 2/24 COLUMNS\\n          SELECTION: [(col(\"hvfhs_license_num\")) == (Utf8(HV0003))]\\n    PLAN 4:\\n      FAST_PROJECT: [hvfhs_license_num, driver_pay]\\n\\n          Parquet SCAN data/nyc_taxi/fhvhv_tripdata_2021-06.parquet\\n          PROJECT 2/24 COLUMNS\\n          SELECTION: [(col(\"hvfhs_license_num\")) == (Utf8(HV0003))]\\n    PLAN 5:\\n      FAST_PROJECT: [hvfhs_license_num, driver_pay]\\n\\n          Parquet SCAN data/nyc_taxi/fhvhv_tripdata_2021-07.parquet\\n          PROJECT 2/24 COLUMNS\\n          SELECTION: [(col(\"hvfhs_license_num\")) == (Utf8(HV0003))]\\n    PLAN 6:\\n      FAST_PROJECT: [hvfhs_license_num, driver_pay]\\n\\n          Parquet SCAN data/nyc_taxi/fhvhv_tripdata_2021-08.parquet\\n          PROJECT 2/24 COLUMNS\\n          SELECTION: [(col(\"hvfhs_license_num\")) == (Utf8(HV0003))]\\n    PLAN 7:\\n      FAST_PROJECT: [hvfhs_license_num, driver_pay]\\n\\n          Parquet SCAN data/nyc_taxi/fhvhv_tripdata_2021-09.parquet\\n          PROJECT 2/24 COLUMNS\\n          SELECTION: [(col(\"hvfhs_license_num\")) == (Utf8(HV0003))]\\n    PLAN 8:\\n      FAST_PROJECT: [hvfhs_license_num, driver_pay]\\n\\n          Parquet SCAN data/nyc_taxi/fhvhv_tripdata_2021-10.parquet\\n          PROJECT 2/24 COLUMNS\\n          SELECTION: [(col(\"hvfhs_license_num\")) == (Utf8(HV0003))]\\n    PLAN 9:\\n      FAST_PROJECT: [hvfhs_license_num, driver_pay]\\n\\n          Parquet SCAN data/nyc_taxi/fhvhv_tripdata_2021-11.parquet\\n          PROJECT 2/24 COLUMNS\\n          SELECTION: [(col(\"hvfhs_license_num\")) == (Utf8(HV0003))]\\n    PLAN 10:\\n      FAST_PROJECT: [hvfhs_license_num, driver_pay]\\n\\n          Parquet SCAN data/nyc_taxi/fhvhv_tripdata_2021-12.parquet\\n          PROJECT 2/24 COLUMNS\\n          SELECTION: [(col(\"hvfhs_license_num\")) == (Utf8(HV0003))]\\n    PLAN 11:\\n      FAST_PROJECT: [hvfhs_license_num, driver_pay]\\n\\n          Parquet SCAN data/nyc_taxi/fhvhv_tripdata_2022-01.parquet\\n          PROJECT 2/24 COLUMNS\\n          SELECTION: [(col(\"hvfhs_license_num\")) == (Utf8(HV0003))]\\n    PLAN 12:\\n      FAST_PROJECT: [hvfhs_license_num, driver_pay]\\n\\n          Parquet SCAN data/nyc_taxi/fhvhv_tripdata_2022-02.parquet\\n          PROJECT 2/24 COLUMNS\\n          SELECTION: [(col(\"hvfhs_license_num\")) == (Utf8(HV0003))]\\n    PLAN 13:\\n      FAST_PROJECT: [hvfhs_license_num, driver_pay]\\n\\n          Parquet SCAN data/nyc_taxi/fhvhv_tripdata_2022-03.parquet\\n          PROJECT 2/24 COLUMNS\\n          SELECTION: [(col(\"hvfhs_license_num\")) == (Utf8(HV0003))]\\n    PLAN 14:\\n      FAST_PROJECT: [hvfhs_license_num, driver_pay]\\n\\n          Parquet SCAN data/nyc_taxi/fhvhv_tripdata_2022-04.parquet\\n          PROJECT 2/24 COLUMNS\\n          SELECTION: [(col(\"hvfhs_license_num\")) == (Utf8(HV0003))]\\n    PLAN 15:\\n      FAST_PROJECT: [hvfhs_license_num, driver_pay]\\n\\n          Parquet SCAN data/nyc_taxi/fhvhv_tripdata_2022-05.parquet\\n          PROJECT 2/24 COLUMNS\\n          SELECTION: [(col(\"hvfhs_license_num\")) == (Utf8(HV0003))]\\n    PLAN 16:\\n      FAST_PROJECT: [hvfhs_license_num, driver_pay]\\n\\n          Parquet SCAN data/nyc_taxi/fhvhv_tripdata_2022-06.parquet\\n          PROJECT 2/24 COLUMNS\\n          SELECTION: [(col(\"hvfhs_license_num\")) == (Utf8(HV0003))]\\n    PLAN 17:\\n      FAST_PROJECT: [hvfhs_license_num, driver_pay]\\n\\n          Parquet SCAN data/nyc_taxi/fhvhv_tripdata_2022-07.parquet\\n          PROJECT 2/24 COLUMNS\\n          SELECTION: [(col(\"hvfhs_license_num\")) == (Utf8(HV0003))]\\n    PLAN 18:\\n      FAST_PROJECT: [hvfhs_license_num, driver_pay]\\n\\n          Parquet SCAN data/nyc_taxi/fhvhv_tripdata_2022-08.parquet\\n          PROJECT 2/24 COLUMNS\\n          SELECTION: [(col(\"hvfhs_license_num\")) == (Utf8(HV0003))]\\n    PLAN 19:\\n      FAST_PROJECT: [hvfhs_license_num, driver_pay]\\n\\n          Parquet SCAN data/nyc_taxi/fhvhv_tripdata_2022-09.parquet\\n          PROJECT 2/24 COLUMNS\\n          SELECTION: [(col(\"hvfhs_license_num\")) == (Utf8(HV0003))]\\n    PLAN 20:\\n      FAST_PROJECT: [hvfhs_license_num, driver_pay]\\n\\n          Parquet SCAN data/nyc_taxi/fhvhv_tripdata_2022-10.parquet\\n          PROJECT 2/24 COLUMNS\\n          SELECTION: [(col(\"hvfhs_license_num\")) == (Utf8(HV0003))]\\n    PLAN 21:\\n      FAST_PROJECT: [hvfhs_license_num, driver_pay]\\n\\n          Parquet SCAN data/nyc_taxi/fhvhv_tripdata_2022-11.parquet\\n          PROJECT 2/24 COLUMNS\\n          SELECTION: [(col(\"hvfhs_license_num\")) == (Utf8(HV0003))]\\n    PLAN 22:\\n      FAST_PROJECT: [hvfhs_license_num, driver_pay]\\n\\n          Parquet SCAN data/nyc_taxi/fhvhv_tripdata_2022-12.parquet\\n          PROJECT 2/24 COLUMNS\\n          SELECTION: [(col(\"hvfhs_license_num\")) == (Utf8(HV0003))]\\n    PLAN 23:\\n      FAST_PROJECT: [hvfhs_license_num, driver_pay]\\n\\n          Parquet SCAN data/nyc_taxi/fhvhv_tripdata_2023-01.parquet\\n          PROJECT 2/24 COLUMNS\\n          SELECTION: [(col(\"hvfhs_license_num\")) == (Utf8(HV0003))]\\n    PLAN 24:\\n      FAST_PROJECT: [hvfhs_license_num, driver_pay]\\n\\n          Parquet SCAN data/nyc_taxi/fhvhv_tripdata_2023-02.parquet\\n          PROJECT 2/24 COLUMNS\\n          SELECTION: [(col(\"hvfhs_license_num\")) == (Utf8(HV0003))]\\n    PLAN 25:\\n      FAST_PROJECT: [hvfhs_license_num, driver_pay]\\n\\n          Parquet SCAN data/nyc_taxi/fhvhv_tripdata_2023-03.parquet\\n          PROJECT 2/24 COLUMNS\\n          SELECTION: [(col(\"hvfhs_license_num\")) == (Utf8(HV0003))]\\n    PLAN 26:\\n      FAST_PROJECT: [hvfhs_license_num, driver_pay]\\n\\n          Parquet SCAN data/nyc_taxi/fhvhv_tripdata_2023-04.parquet\\n          PROJECT 2/24 COLUMNS\\n          SELECTION: [(col(\"hvfhs_license_num\")) == (Utf8(HV0003))]\\n    PLAN 27:\\n      FAST_PROJECT: [hvfhs_license_num, driver_pay]\\n\\n          Parquet SCAN data/nyc_taxi/fhvhv_tripdata_2023-05.parquet\\n          PROJECT 2/24 COLUMNS\\n          SELECTION: [(col(\"hvfhs_license_num\")) == (Utf8(HV0003))]\\n    PLAN 28:\\n      FAST_PROJECT: [hvfhs_license_num, driver_pay]\\n\\n          Parquet SCAN data/nyc_taxi/fhvhv_tripdata_2023-06.parquet\\n          PROJECT 2/24 COLUMNS\\n          SELECTION: [(col(\"hvfhs_license_num\")) == (Utf8(HV0003))]\\n  END UNION'"
      ]
     },
     "execution_count": 10,
     "metadata": {},
     "output_type": "execute_result"
    }
   ],
   "source": [
    "lz_df.explain()"
   ]
  },
  {
   "cell_type": "code",
   "execution_count": 5,
   "id": "aacf1482-7e7f-41ff-be62-4b4d53a1d509",
   "metadata": {},
   "outputs": [
    {
     "data": {
      "text/html": [
       "<div><style>\n",
       ".dataframe > thead > tr > th,\n",
       ".dataframe > tbody > tr > td {\n",
       "  text-align: right;\n",
       "  white-space: pre-wrap;\n",
       "}\n",
       "</style>\n",
       "<small>shape: (5, 2)</small><table border=\"1\" class=\"dataframe\"><thead><tr><th>hvfhs_license_num</th><th>driver_pay</th></tr><tr><td>str</td><td>f64</td></tr></thead><tbody><tr><td>&quot;HV0003&quot;</td><td>9.79</td></tr><tr><td>&quot;HV0003&quot;</td><td>24.01</td></tr><tr><td>&quot;HV0003&quot;</td><td>8.53</td></tr><tr><td>&quot;HV0003&quot;</td><td>16.05</td></tr><tr><td>&quot;HV0003&quot;</td><td>25.42</td></tr></tbody></table></div>"
      ],
      "text/plain": [
       "shape: (5, 2)\n",
       "┌───────────────────┬────────────┐\n",
       "│ hvfhs_license_num ┆ driver_pay │\n",
       "│ ---               ┆ ---        │\n",
       "│ str               ┆ f64        │\n",
       "╞═══════════════════╪════════════╡\n",
       "│ HV0003            ┆ 9.79       │\n",
       "│ HV0003            ┆ 24.01      │\n",
       "│ HV0003            ┆ 8.53       │\n",
       "│ HV0003            ┆ 16.05      │\n",
       "│ HV0003            ┆ 25.42      │\n",
       "└───────────────────┴────────────┘"
      ]
     },
     "execution_count": 5,
     "metadata": {},
     "output_type": "execute_result"
    }
   ],
   "source": [
    "(\n",
    "    lz_df.head()\n",
    "    .collect()\n",
    ")"
   ]
  },
  {
   "cell_type": "code",
   "execution_count": 7,
   "id": "456d2039-9612-4ffd-b442-5d0c8ad375fd",
   "metadata": {},
   "outputs": [
    {
     "data": {
      "text/plain": [
       "{'hvfhs_license_num': Utf8, 'driver_pay': Float64}"
      ]
     },
     "execution_count": 7,
     "metadata": {},
     "output_type": "execute_result"
    }
   ],
   "source": [
    "lz_df.schema"
   ]
  },
  {
   "cell_type": "code",
   "execution_count": 3,
   "id": "d0a3253e-06d6-445d-89af-e350256a6d7d",
   "metadata": {},
   "outputs": [
    {
     "name": "stdout",
     "output_type": "stream",
     "text": [
      "CPU times: user 11.5 ms, sys: 2.33 ms, total: 13.8 ms\n",
      "Wall time: 23.5 ms\n"
     ]
    },
    {
     "data": {
      "text/html": [
       "<div><style>\n",
       ".dataframe > thead > tr > th,\n",
       ".dataframe > tbody > tr > td {\n",
       "  text-align: right;\n",
       "  white-space: pre-wrap;\n",
       "}\n",
       "</style>\n",
       "<small>shape: (9, 4)</small><table border=\"1\" class=\"dataframe\"><thead><tr><th>describe</th><th>integer</th><th>date</th><th>float</th></tr><tr><td>str</td><td>f64</td><td>str</td><td>f64</td></tr></thead><tbody><tr><td>&quot;count&quot;</td><td>5.0</td><td>&quot;5&quot;</td><td>5.0</td></tr><tr><td>&quot;null_count&quot;</td><td>0.0</td><td>&quot;0&quot;</td><td>0.0</td></tr><tr><td>&quot;mean&quot;</td><td>3.0</td><td>null</td><td>6.0</td></tr><tr><td>&quot;std&quot;</td><td>1.581139</td><td>null</td><td>1.581139</td></tr><tr><td>&quot;min&quot;</td><td>1.0</td><td>&quot;2022-01-01 00:…</td><td>4.0</td></tr><tr><td>&quot;25%&quot;</td><td>2.0</td><td>null</td><td>5.0</td></tr><tr><td>&quot;50%&quot;</td><td>3.0</td><td>null</td><td>6.0</td></tr><tr><td>&quot;75%&quot;</td><td>4.0</td><td>null</td><td>7.0</td></tr><tr><td>&quot;max&quot;</td><td>5.0</td><td>&quot;2022-01-05 00:…</td><td>8.0</td></tr></tbody></table></div>"
      ],
      "text/plain": [
       "shape: (9, 4)\n",
       "┌────────────┬──────────┬─────────────────────┬──────────┐\n",
       "│ describe   ┆ integer  ┆ date                ┆ float    │\n",
       "│ ---        ┆ ---      ┆ ---                 ┆ ---      │\n",
       "│ str        ┆ f64      ┆ str                 ┆ f64      │\n",
       "╞════════════╪══════════╪═════════════════════╪══════════╡\n",
       "│ count      ┆ 5.0      ┆ 5                   ┆ 5.0      │\n",
       "│ null_count ┆ 0.0      ┆ 0                   ┆ 0.0      │\n",
       "│ mean       ┆ 3.0      ┆ null                ┆ 6.0      │\n",
       "│ std        ┆ 1.581139 ┆ null                ┆ 1.581139 │\n",
       "│ min        ┆ 1.0      ┆ 2022-01-01 00:00:00 ┆ 4.0      │\n",
       "│ 25%        ┆ 2.0      ┆ null                ┆ 5.0      │\n",
       "│ 50%        ┆ 3.0      ┆ null                ┆ 6.0      │\n",
       "│ 75%        ┆ 4.0      ┆ null                ┆ 7.0      │\n",
       "│ max        ┆ 5.0      ┆ 2022-01-05 00:00:00 ┆ 8.0      │\n",
       "└────────────┴──────────┴─────────────────────┴──────────┘"
      ]
     },
     "execution_count": 3,
     "metadata": {},
     "output_type": "execute_result"
    }
   ],
   "source": [
    "%%time\n",
    "df.describe()"
   ]
  }
 ],
 "metadata": {
  "kernelspec": {
   "display_name": "Python 3 (ipykernel)",
   "language": "python",
   "name": "python3"
  },
  "language_info": {
   "codemirror_mode": {
    "name": "ipython",
    "version": 3
   },
   "file_extension": ".py",
   "mimetype": "text/x-python",
   "name": "python",
   "nbconvert_exporter": "python",
   "pygments_lexer": "ipython3",
   "version": "3.11.5"
  }
 },
 "nbformat": 4,
 "nbformat_minor": 5
}
