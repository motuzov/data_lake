{
 "cells": [
  {
   "cell_type": "code",
   "execution_count": 1,
   "id": "006f0803-4f04-4cf4-b24b-e4c252091408",
   "metadata": {
    "editable": true,
    "slideshow": {
     "slide_type": ""
    },
    "tags": []
   },
   "outputs": [],
   "source": [
    "import pyspark"
   ]
  },
  {
   "cell_type": "code",
   "execution_count": 2,
   "id": "8002f2be-5e8d-4dfa-83ba-e48474922242",
   "metadata": {
    "editable": true,
    "slideshow": {
     "slide_type": ""
    },
    "tags": []
   },
   "outputs": [
    {
     "data": {
      "text/html": [
       "\n",
       "                <script type=\"application/javascript\" id=\"jupyter_black\">\n",
       "                (function() {\n",
       "                    if (window.IPython === undefined) {\n",
       "                        return\n",
       "                    }\n",
       "                    var msg = \"WARNING: it looks like you might have loaded \" +\n",
       "                        \"jupyter_black in a non-lab notebook with \" +\n",
       "                        \"`is_lab=True`. Please double check, and if \" +\n",
       "                        \"loading with `%load_ext` please review the README!\"\n",
       "                    console.log(msg)\n",
       "                    alert(msg)\n",
       "                })()\n",
       "                </script>\n",
       "                "
      ],
      "text/plain": [
       "<IPython.core.display.HTML object>"
      ]
     },
     "metadata": {},
     "output_type": "display_data"
    }
   ],
   "source": [
    "%load_ext jupyter_black\n",
    "%load_ext autoreload\n",
    "%autoreload 2"
   ]
  },
  {
   "cell_type": "code",
   "execution_count": 3,
   "id": "17bf52f4-9881-4543-9978-58664c2bab52",
   "metadata": {
    "editable": true,
    "slideshow": {
     "slide_type": ""
    },
    "tags": []
   },
   "outputs": [
    {
     "data": {
      "text/plain": [
       "'3.4.1'"
      ]
     },
     "execution_count": 3,
     "metadata": {},
     "output_type": "execute_result"
    }
   ],
   "source": [
    "pyspark.__version__"
   ]
  },
  {
   "cell_type": "markdown",
   "id": "10dfcf94-356a-48d4-9f5e-6e327f1e5155",
   "metadata": {},
   "source": [
    "https://spark.apache.org/docs/3.4.1/quick-start.html#self-contained-applications"
   ]
  },
  {
   "cell_type": "code",
   "execution_count": 4,
   "id": "531738be-264e-4bed-bbfd-8c9aaed656c2",
   "metadata": {
    "editable": true,
    "slideshow": {
     "slide_type": ""
    },
    "tags": []
   },
   "outputs": [],
   "source": [
    "from pyspark.sql import SparkSession\n",
    "from pyspark.sql.types import StructType\n",
    "from pyspark.sql.window import Window\n",
    "from pyspark.sql import functions as F\n",
    "from datetime import datetime"
   ]
  },
  {
   "cell_type": "code",
   "execution_count": 5,
   "id": "0abd4642-773d-4a09-ae72-7aff6c175d4a",
   "metadata": {},
   "outputs": [],
   "source": [
    "import os\n",
    "\n",
    "os.environ[\"PYARROW_IGNORE_TIMEZONE\"] = \"1\""
   ]
  },
  {
   "cell_type": "code",
   "execution_count": 6,
   "id": "ba01fc59-9d0b-41a2-8d4f-22c1cf098410",
   "metadata": {
    "editable": true,
    "slideshow": {
     "slide_type": ""
    },
    "tags": []
   },
   "outputs": [],
   "source": [
    "spark = (\n",
    "    SparkSession.builder.appName(\"SimpleApp\")\n",
    "    .config(\"spark.executor.memory\", \"4g\")\n",
    "    .config(\"spark.driver.memory\", \"4g\")\n",
    "    .config(\"spark.sql.execution.arrow.pyspark.enabled\", \"true\")\n",
    "    .master(\"local[4]\")\n",
    "    .getOrCreate()\n",
    ")"
   ]
  },
  {
   "cell_type": "code",
   "execution_count": 7,
   "id": "00027f41-9f85-4a3e-b429-3e77f8387769",
   "metadata": {},
   "outputs": [
    {
     "data": {
      "text/plain": [
       "1.7578125"
      ]
     },
     "execution_count": 7,
     "metadata": {},
     "output_type": "execute_result"
    }
   ],
   "source": [
    "471859200 / 268435456.0"
   ]
  },
  {
   "cell_type": "markdown",
   "id": "f034659f-4816-45d5-af9c-f1baa445fe90",
   "metadata": {},
   "source": [
    "When an app is created, Spark UI is available (default port 4040)."
   ]
  },
  {
   "cell_type": "markdown",
   "id": "7124a28c-1882-47a1-ad97-7f54ded7d2e2",
   "metadata": {},
   "source": [
    "http://localhost:32769/jobs/"
   ]
  },
  {
   "cell_type": "code",
   "execution_count": 8,
   "id": "0cad49ef-ab0c-4f40-a2a7-6771a74fcffd",
   "metadata": {
    "editable": true,
    "slideshow": {
     "slide_type": ""
    },
    "tags": []
   },
   "outputs": [
    {
     "data": {
      "text/plain": [
       "'4g'"
      ]
     },
     "execution_count": 8,
     "metadata": {},
     "output_type": "execute_result"
    }
   ],
   "source": [
    "spark.conf.get(\"spark.executor.memory\")"
   ]
  },
  {
   "cell_type": "code",
   "execution_count": 9,
   "id": "d2ddc69b-0b0f-4942-918e-8436d5bb23aa",
   "metadata": {
    "editable": true,
    "slideshow": {
     "slide_type": ""
    },
    "tags": []
   },
   "outputs": [
    {
     "data": {
      "text/plain": [
       "[('spark.app.submitTime', '1697364616290'),\n",
       " ('spark.app.startTime', '1697364616451'),\n",
       " ('spark.driver.port', '37787'),\n",
       " ('spark.master', 'local[4]'),\n",
       " ('spark.app.name', 'SimpleApp'),\n",
       " ('spark.driver.memory', '4g'),\n",
       " ('spark.executor.memory', '4g'),\n",
       " ('spark.executor.id', 'driver'),\n",
       " ('spark.app.id', 'local-1697364617116'),\n",
       " ('spark.driver.extraJavaOptions',\n",
       "  '-Djava.net.preferIPv6Addresses=false -XX:+IgnoreUnrecognizedVMOptions --add-opens=java.base/java.lang=ALL-UNNAMED --add-opens=java.base/java.lang.invoke=ALL-UNNAMED --add-opens=java.base/java.lang.reflect=ALL-UNNAMED --add-opens=java.base/java.io=ALL-UNNAMED --add-opens=java.base/java.net=ALL-UNNAMED --add-opens=java.base/java.nio=ALL-UNNAMED --add-opens=java.base/java.util=ALL-UNNAMED --add-opens=java.base/java.util.concurrent=ALL-UNNAMED --add-opens=java.base/java.util.concurrent.atomic=ALL-UNNAMED --add-opens=java.base/sun.nio.ch=ALL-UNNAMED --add-opens=java.base/sun.nio.cs=ALL-UNNAMED --add-opens=java.base/sun.security.action=ALL-UNNAMED --add-opens=java.base/sun.util.calendar=ALL-UNNAMED --add-opens=java.security.jgss/sun.security.krb5=ALL-UNNAMED -Djdk.reflect.useDirectMethodHandle=false'),\n",
       " ('spark.rdd.compress', 'True'),\n",
       " ('spark.serializer.objectStreamReset', '100'),\n",
       " ('spark.submit.pyFiles', ''),\n",
       " ('spark.submit.deployMode', 'client'),\n",
       " ('spark.sql.warehouse.dir', 'file:/home/jovyan/work/spark-warehouse'),\n",
       " ('spark.driver.host', '7c0e3358777b'),\n",
       " ('spark.ui.showConsoleProgress', 'true'),\n",
       " ('spark.sql.execution.arrow.pyspark.enabled', 'true'),\n",
       " ('spark.executor.extraJavaOptions',\n",
       "  '-Djava.net.preferIPv6Addresses=false -XX:+IgnoreUnrecognizedVMOptions --add-opens=java.base/java.lang=ALL-UNNAMED --add-opens=java.base/java.lang.invoke=ALL-UNNAMED --add-opens=java.base/java.lang.reflect=ALL-UNNAMED --add-opens=java.base/java.io=ALL-UNNAMED --add-opens=java.base/java.net=ALL-UNNAMED --add-opens=java.base/java.nio=ALL-UNNAMED --add-opens=java.base/java.util=ALL-UNNAMED --add-opens=java.base/java.util.concurrent=ALL-UNNAMED --add-opens=java.base/java.util.concurrent.atomic=ALL-UNNAMED --add-opens=java.base/sun.nio.ch=ALL-UNNAMED --add-opens=java.base/sun.nio.cs=ALL-UNNAMED --add-opens=java.base/sun.security.action=ALL-UNNAMED --add-opens=java.base/sun.util.calendar=ALL-UNNAMED --add-opens=java.security.jgss/sun.security.krb5=ALL-UNNAMED -Djdk.reflect.useDirectMethodHandle=false')]"
      ]
     },
     "execution_count": 9,
     "metadata": {},
     "output_type": "execute_result"
    }
   ],
   "source": [
    "spark.sparkContext._conf.getAll()"
   ]
  },
  {
   "cell_type": "code",
   "execution_count": 10,
   "id": "4a775800-64af-4445-a860-fcd69cf09a1f",
   "metadata": {
    "editable": true,
    "slideshow": {
     "slide_type": ""
    },
    "tags": []
   },
   "outputs": [
    {
     "data": {
      "text/plain": [
       "'local[4]'"
      ]
     },
     "execution_count": 10,
     "metadata": {},
     "output_type": "execute_result"
    }
   ],
   "source": [
    "spark.conf.get(\"spark.master\")"
   ]
  },
  {
   "cell_type": "code",
   "execution_count": 11,
   "id": "8f4239df-dae7-4ee8-bc41-6651d61f0716",
   "metadata": {
    "editable": true,
    "slideshow": {
     "slide_type": ""
    },
    "tags": []
   },
   "outputs": [
    {
     "name": "stdout",
     "output_type": "stream",
     "text": [
      "289M\tdata/nyc_taxi/fhvhv_tripdata_2021-02.parquet\n",
      "352M\tdata/nyc_taxi/fhvhv_tripdata_2021-03.parquet\n",
      "352M\tdata/nyc_taxi/fhvhv_tripdata_2021-04.parquet\n",
      "370M\tdata/nyc_taxi/fhvhv_tripdata_2021-05.parquet\n",
      "376M\tdata/nyc_taxi/fhvhv_tripdata_2021-06.parquet\n",
      "378M\tdata/nyc_taxi/fhvhv_tripdata_2021-07.parquet\n",
      "365M\tdata/nyc_taxi/fhvhv_tripdata_2021-08.parquet\n",
      "376M\tdata/nyc_taxi/fhvhv_tripdata_2021-09.parquet\n",
      "411M\tdata/nyc_taxi/fhvhv_tripdata_2021-10.parquet\n",
      "393M\tdata/nyc_taxi/fhvhv_tripdata_2021-11.parquet\n",
      "392M\tdata/nyc_taxi/fhvhv_tripdata_2021-12.parquet\n",
      "358M\tdata/nyc_taxi/fhvhv_tripdata_2022-01.parquet\n",
      "389M\tdata/nyc_taxi/fhvhv_tripdata_2022-02.parquet\n",
      "450M\tdata/nyc_taxi/fhvhv_tripdata_2022-03.parquet\n",
      "435M\tdata/nyc_taxi/fhvhv_tripdata_2022-04.parquet\n",
      "447M\tdata/nyc_taxi/fhvhv_tripdata_2022-05.parquet\n",
      "437M\tdata/nyc_taxi/fhvhv_tripdata_2022-06.parquet\n",
      "424M\tdata/nyc_taxi/fhvhv_tripdata_2022-07.parquet\n",
      "417M\tdata/nyc_taxi/fhvhv_tripdata_2022-08.parquet\n",
      "437M\tdata/nyc_taxi/fhvhv_tripdata_2022-09.parquet\n",
      "473M\tdata/nyc_taxi/fhvhv_tripdata_2022-10.parquet\n",
      "443M\tdata/nyc_taxi/fhvhv_tripdata_2022-11.parquet\n",
      "481M\tdata/nyc_taxi/fhvhv_tripdata_2022-12.parquet\n",
      "452M\tdata/nyc_taxi/fhvhv_tripdata_2023-01.parquet\n",
      "438M\tdata/nyc_taxi/fhvhv_tripdata_2023-02.parquet\n",
      "499M\tdata/nyc_taxi/fhvhv_tripdata_2023-03.parquet\n",
      "470M\tdata/nyc_taxi/fhvhv_tripdata_2023-04.parquet\n",
      "490M\tdata/nyc_taxi/fhvhv_tripdata_2023-05.parquet\n",
      "476M\tdata/nyc_taxi/fhvhv_tripdata_2023-06.parquet\n"
     ]
    }
   ],
   "source": [
    "! du -h data/nyc_taxi/fhvhv_*"
   ]
  },
  {
   "cell_type": "code",
   "execution_count": 12,
   "id": "dbf89e19-cdf0-4533-9713-765b997da9b1",
   "metadata": {
    "editable": true,
    "slideshow": {
     "slide_type": ""
    },
    "tags": []
   },
   "outputs": [],
   "source": [
    "sdf = spark.read.parquet(\"data/nyc_taxi/fhvhv_tripdata_2021-0*\")"
   ]
  },
  {
   "cell_type": "code",
   "execution_count": 13,
   "id": "06f4c2d7-f541-45f6-8c55-aa399da49f68",
   "metadata": {
    "editable": true,
    "slideshow": {
     "slide_type": ""
    },
    "tags": []
   },
   "outputs": [
    {
     "name": "stdout",
     "output_type": "stream",
     "text": [
      "root\n",
      " |-- hvfhs_license_num: string (nullable = true)\n",
      " |-- dispatching_base_num: string (nullable = true)\n",
      " |-- originating_base_num: string (nullable = true)\n",
      " |-- request_datetime: timestamp_ntz (nullable = true)\n",
      " |-- on_scene_datetime: timestamp_ntz (nullable = true)\n",
      " |-- pickup_datetime: timestamp_ntz (nullable = true)\n",
      " |-- dropoff_datetime: timestamp_ntz (nullable = true)\n",
      " |-- PULocationID: long (nullable = true)\n",
      " |-- DOLocationID: long (nullable = true)\n",
      " |-- trip_miles: double (nullable = true)\n",
      " |-- trip_time: long (nullable = true)\n",
      " |-- base_passenger_fare: double (nullable = true)\n",
      " |-- tolls: double (nullable = true)\n",
      " |-- bcf: double (nullable = true)\n",
      " |-- sales_tax: double (nullable = true)\n",
      " |-- congestion_surcharge: double (nullable = true)\n",
      " |-- airport_fee: double (nullable = true)\n",
      " |-- tips: double (nullable = true)\n",
      " |-- driver_pay: double (nullable = true)\n",
      " |-- shared_request_flag: string (nullable = true)\n",
      " |-- shared_match_flag: string (nullable = true)\n",
      " |-- access_a_ride_flag: string (nullable = true)\n",
      " |-- wav_request_flag: string (nullable = true)\n",
      " |-- wav_match_flag: string (nullable = true)\n",
      "\n"
     ]
    }
   ],
   "source": [
    "sdf.printSchema()"
   ]
  },
  {
   "cell_type": "markdown",
   "id": "e7812be9-5c41-475b-ba63-341deb1d3f80",
   "metadata": {},
   "source": [
    "## Windows functions over"
   ]
  },
  {
   "cell_type": "code",
   "execution_count": 14,
   "id": "e65df8ae-9788-4641-b0a7-0a7ad0b463dc",
   "metadata": {},
   "outputs": [
    {
     "name": "stdout",
     "output_type": "stream",
     "text": [
      "+----+-----+-----+-------+\n",
      "|time|value|class|cum_sum|\n",
      "+----+-----+-----+-------+\n",
      "|   1|    2|    a|      2|\n",
      "|   2|    2|    a|      4|\n",
      "|   3|    2|    a|      4|\n",
      "|   4|    3|    a|      5|\n",
      "|   5|    3|    a|      6|\n",
      "|   1|    3|    b|      3|\n",
      "|   2|    3|    b|      6|\n",
      "+----+-----+-----+-------+\n",
      "\n"
     ]
    }
   ],
   "source": [
    "df = spark.createDataFrame(\n",
    "    [\n",
    "        (1, 2, \"a\"),\n",
    "        (2, 2, \"a\"),\n",
    "        (1, 3, \"b\"),\n",
    "        (3, 2, \"a\"),\n",
    "        (4, 3, \"a\"),\n",
    "        (5, 3, \"a\"),\n",
    "        (2, 3, \"b\"),\n",
    "    ],\n",
    "    [\"time\", \"value\", \"class\"],\n",
    ")\n",
    "\n",
    "windowval = (\n",
    "    Window.partitionBy(\"class\").orderBy(\"time\").rangeBetween(-1, Window.currentRow)\n",
    ")\n",
    "df_w_cumsum = df.withColumn(\"cum_sum\", F.sum(\"value\").over(windowval))\n",
    "df_w_cumsum.show()"
   ]
  },
  {
   "cell_type": "markdown",
   "id": "9460b4eb-3df5-4eba-9fa3-8c06b11612c6",
   "metadata": {},
   "source": [
    "## Pnads-on-Spark"
   ]
  },
  {
   "cell_type": "code",
   "execution_count": 15,
   "id": "1f21e175-4e50-4411-b51a-a05e07a58ff4",
   "metadata": {
    "editable": true,
    "slideshow": {
     "slide_type": ""
    },
    "tags": []
   },
   "outputs": [],
   "source": [
    "import pyspark.pandas as ps\n",
    "import pandas as pd"
   ]
  },
  {
   "cell_type": "code",
   "execution_count": 16,
   "id": "f2318c8d-43fd-47ee-b5bc-29770e5dbcb6",
   "metadata": {
    "editable": true,
    "slideshow": {
     "slide_type": ""
    },
    "tags": []
   },
   "outputs": [
    {
     "data": {
      "text/plain": [
       "10"
      ]
     },
     "execution_count": 16,
     "metadata": {},
     "output_type": "execute_result"
    }
   ],
   "source": [
    "df = pd.DataFrame({\"a\": [1, 2, 3, 4]})\n",
    "sum(df.a)"
   ]
  },
  {
   "cell_type": "code",
   "execution_count": 17,
   "id": "f394309d-8ae6-453a-8bf8-f489c067246f",
   "metadata": {},
   "outputs": [],
   "source": [
    "ps_test_df = ps.DataFrame({\"id\": range(10)})"
   ]
  },
  {
   "cell_type": "code",
   "execution_count": 18,
   "id": "fcce2013-2ae2-4654-967b-4ec3e777ef67",
   "metadata": {},
   "outputs": [
    {
     "data": {
      "text/plain": [
       "9"
      ]
     },
     "execution_count": 18,
     "metadata": {},
     "output_type": "execute_result"
    }
   ],
   "source": [
    "ps_test_df[\"id\"].max()"
   ]
  },
  {
   "cell_type": "code",
   "execution_count": 19,
   "id": "3037e6a1-7b58-48ea-9499-2925ede362b7",
   "metadata": {
    "editable": true,
    "slideshow": {
     "slide_type": ""
    },
    "tags": []
   },
   "outputs": [],
   "source": [
    "psdf = sdf.pandas_api()"
   ]
  },
  {
   "cell_type": "code",
   "execution_count": 20,
   "id": "b310ba9f-c6b4-4615-bfb0-85ee3a320025",
   "metadata": {},
   "outputs": [
    {
     "data": {
      "text/plain": [
       "114046694"
      ]
     },
     "execution_count": 20,
     "metadata": {},
     "output_type": "execute_result"
    }
   ],
   "source": [
    "psdf[\"hvfhs_license_num\"].count()"
   ]
  },
  {
   "cell_type": "code",
   "execution_count": 21,
   "id": "09e625c6-33ef-41b9-8a34-9f5cf03a13d4",
   "metadata": {},
   "outputs": [
    {
     "data": {
      "text/plain": [
       "0    B02764\n",
       "1    B02764\n",
       "2    B02510\n",
       "3    B02510\n",
       "4    B02872\n",
       "Name: dispatching_base_num, dtype: object"
      ]
     },
     "execution_count": 21,
     "metadata": {},
     "output_type": "execute_result"
    }
   ],
   "source": [
    "psdf[\"dispatching_base_num\"].head()"
   ]
  },
  {
   "cell_type": "code",
   "execution_count": 22,
   "id": "917c417f-a277-4d10-8f1b-077746eb9608",
   "metadata": {},
   "outputs": [
    {
     "name": "stdout",
     "output_type": "stream",
     "text": [
      "CPU times: user 25.2 ms, sys: 3.39 ms, total: 28.5 ms\n",
      "Wall time: 108 ms\n"
     ]
    }
   ],
   "source": [
    "%%time\n",
    "res = (\n",
    "    psdf.groupby(\"dispatching_base_num\")[\"dispatching_base_num\"]\n",
    "    .count()\n",
    "    .sort_values(ascending=False)\n",
    ")"
   ]
  },
  {
   "cell_type": "code",
   "execution_count": 23,
   "id": "d0f083be-ab19-4686-9bdb-4f7285f015b8",
   "metadata": {},
   "outputs": [
    {
     "data": {
      "text/plain": [
       "dispatching_base_num\n",
       "B02510    31052693\n",
       "B02764    10320707\n",
       "B02872     8742376\n",
       "B02875     7078022\n",
       "B02765     5325306\n",
       "Name: dispatching_base_num, dtype: int64"
      ]
     },
     "execution_count": 23,
     "metadata": {},
     "output_type": "execute_result"
    }
   ],
   "source": [
    "res.head()"
   ]
  },
  {
   "cell_type": "code",
   "execution_count": 30,
   "id": "e792c092-357f-46be-bff6-132f0f46079b",
   "metadata": {},
   "outputs": [],
   "source": [
    "psdf_top = (\n",
    "    psdf[[\"hvfhs_license_num\", \"trip_miles\", \"tips\"]]\n",
    "    .groupby(\"hvfhs_license_num\")\n",
    "    .agg([\"min\", \"max\", \"sum\"])\n",
    "    .sort_values([(\"tips\", \"sum\")], ascending=False)\n",
    ")"
   ]
  },
  {
   "cell_type": "code",
   "execution_count": 31,
   "id": "686192a2-840b-42a9-8fb6-83daa9d2c1b6",
   "metadata": {},
   "outputs": [
    {
     "name": "stdout",
     "output_type": "stream",
     "text": [
      "== Physical Plan ==\n",
      "AdaptiveSparkPlan isFinalPlan=false\n",
      "+- Project [__index_level_0__#965, (trip_miles, min)#966, (trip_miles, max)#967, (trip_miles, sum)#968, (tips, min)#969, (tips, max)#970, (tips, sum)#971]\n",
      "   +- Sort [(tips, sum)#971 DESC NULLS LAST, __natural_order__#1023L ASC NULLS FIRST], true, 0\n",
      "      +- Exchange rangepartitioning((tips, sum)#971 DESC NULLS LAST, __natural_order__#1023L ASC NULLS FIRST, 200), ENSURE_REQUIREMENTS, [plan_id=448]\n",
      "         +- HashAggregate(keys=[__index_level_0__#965], functions=[min(trip_miles#9), max(trip_miles#9), sum(trip_miles#9), min(tips#17), max(tips#17), sum(tips#17)])\n",
      "            +- Exchange hashpartitioning(__index_level_0__#965, 200), ENSURE_REQUIREMENTS, [plan_id=445]\n",
      "               +- HashAggregate(keys=[__index_level_0__#965], functions=[partial_min(trip_miles#9), partial_max(trip_miles#9), partial_sum(trip_miles#9), partial_min(tips#17), partial_max(tips#17), partial_sum(tips#17)])\n",
      "                  +- Project [hvfhs_license_num#0 AS __index_level_0__#965, trip_miles#9, tips#17]\n",
      "                     +- Filter atleastnnonnulls(1, hvfhs_license_num#0)\n",
      "                        +- FileScan parquet [hvfhs_license_num#0,trip_miles#9,tips#17] Batched: true, DataFilters: [atleastnnonnulls(1, hvfhs_license_num#0)], Format: Parquet, Location: InMemoryFileIndex(8 paths)[file:/home/jovyan/work/data/nyc_taxi/fhvhv_tripdata_2021-02.parquet, f..., PartitionFilters: [], PushedFilters: [], ReadSchema: struct<hvfhs_license_num:string,trip_miles:double,tips:double>\n",
      "\n",
      "\n"
     ]
    }
   ],
   "source": [
    "psdf_top.spark.explain()"
   ]
  },
  {
   "cell_type": "code",
   "execution_count": 32,
   "id": "fb8c5572-0c65-44e4-ad8a-a99724fd7ff1",
   "metadata": {},
   "outputs": [
    {
     "name": "stdout",
     "output_type": "stream",
     "text": [
      "CPU times: user 12.1 ms, sys: 946 µs, total: 13 ms\n",
      "Wall time: 32.3 ms\n"
     ]
    },
    {
     "data": {
      "text/html": [
       "<div>\n",
       "<style scoped>\n",
       "    .dataframe tbody tr th:only-of-type {\n",
       "        vertical-align: middle;\n",
       "    }\n",
       "\n",
       "    .dataframe tbody tr th {\n",
       "        vertical-align: top;\n",
       "    }\n",
       "\n",
       "    .dataframe thead tr th {\n",
       "        text-align: left;\n",
       "    }\n",
       "\n",
       "    .dataframe thead tr:last-of-type th {\n",
       "        text-align: right;\n",
       "    }\n",
       "</style>\n",
       "<table border=\"1\" class=\"dataframe\">\n",
       "  <thead>\n",
       "    <tr>\n",
       "      <th></th>\n",
       "      <th colspan=\"3\" halign=\"left\">trip_miles</th>\n",
       "      <th colspan=\"3\" halign=\"left\">tips</th>\n",
       "    </tr>\n",
       "    <tr>\n",
       "      <th></th>\n",
       "      <th>min</th>\n",
       "      <th>max</th>\n",
       "      <th>sum</th>\n",
       "      <th>min</th>\n",
       "      <th>max</th>\n",
       "      <th>sum</th>\n",
       "    </tr>\n",
       "    <tr>\n",
       "      <th>hvfhs_license_num</th>\n",
       "      <th></th>\n",
       "      <th></th>\n",
       "      <th></th>\n",
       "      <th></th>\n",
       "      <th></th>\n",
       "      <th></th>\n",
       "    </tr>\n",
       "  </thead>\n",
       "  <tbody>\n",
       "    <tr>\n",
       "      <th>HV0003</th>\n",
       "      <td>0.0</td>\n",
       "      <td>568.640</td>\n",
       "      <td>3.904355e+08</td>\n",
       "      <td>0.0</td>\n",
       "      <td>1000.0</td>\n",
       "      <td>5.987219e+07</td>\n",
       "    </tr>\n",
       "    <tr>\n",
       "      <th>HV0005</th>\n",
       "      <td>0.0</td>\n",
       "      <td>392.852</td>\n",
       "      <td>1.557944e+08</td>\n",
       "      <td>0.0</td>\n",
       "      <td>200.0</td>\n",
       "      <td>3.014290e+07</td>\n",
       "    </tr>\n",
       "    <tr>\n",
       "      <th>HV0004</th>\n",
       "      <td>0.0</td>\n",
       "      <td>106.190</td>\n",
       "      <td>3.972909e+06</td>\n",
       "      <td>0.0</td>\n",
       "      <td>90.0</td>\n",
       "      <td>3.921988e+05</td>\n",
       "    </tr>\n",
       "  </tbody>\n",
       "</table>\n",
       "</div>"
      ],
      "text/plain": [
       "                  trip_miles                        tips                      \n",
       "                         min      max           sum  min     max           sum\n",
       "hvfhs_license_num                                                             \n",
       "HV0003                   0.0  568.640  3.904355e+08  0.0  1000.0  5.987219e+07\n",
       "HV0005                   0.0  392.852  1.557944e+08  0.0   200.0  3.014290e+07\n",
       "HV0004                   0.0  106.190  3.972909e+06  0.0    90.0  3.921988e+05"
      ]
     },
     "execution_count": 32,
     "metadata": {},
     "output_type": "execute_result"
    }
   ],
   "source": [
    "%%time\n",
    "psdf_top.head(10)"
   ]
  },
  {
   "cell_type": "code",
   "execution_count": 33,
   "id": "2081ac7a-67a1-4efa-9dc5-cca53001c874",
   "metadata": {},
   "outputs": [
    {
     "name": "stdout",
     "output_type": "stream",
     "text": [
      "CPU times: user 195 ms, sys: 65.7 ms, total: 261 ms\n",
      "Wall time: 29.6 s\n"
     ]
    },
    {
     "data": {
      "text/plain": [
       "hvfhs_license_num       114046694\n",
       "dispatching_base_num    114046694\n",
       "originating_base_num     81745554\n",
       "request_datetime        114046693\n",
       "on_scene_datetime        81757624\n",
       "pickup_datetime         114046694\n",
       "dropoff_datetime        114046694\n",
       "PULocationID            114046694\n",
       "DOLocationID            114046694\n",
       "trip_miles              114046694\n",
       "trip_time               114046694\n",
       "base_passenger_fare     114046694\n",
       "tolls                   114046694\n",
       "bcf                     114046694\n",
       "sales_tax               114046694\n",
       "congestion_surcharge    114046694\n",
       "airport_fee              89452905\n",
       "tips                    114046694\n",
       "driver_pay              114046694\n",
       "shared_request_flag     114046694\n",
       "shared_match_flag       114046694\n",
       "access_a_ride_flag      114046694\n",
       "wav_request_flag        114046694\n",
       "wav_match_flag          114046694\n",
       "dtype: int64"
      ]
     },
     "execution_count": 33,
     "metadata": {},
     "output_type": "execute_result"
    }
   ],
   "source": [
    "%%time\n",
    "psdf.count()"
   ]
  },
  {
   "cell_type": "code",
   "execution_count": 34,
   "id": "f867132e-8c0b-4848-93d3-f59974b106ea",
   "metadata": {},
   "outputs": [
    {
     "name": "stdout",
     "output_type": "stream",
     "text": [
      "CPU times: user 10.3 ms, sys: 8.58 ms, total: 18.8 ms\n",
      "Wall time: 1.3 s\n"
     ]
    },
    {
     "data": {
      "text/plain": [
       "568.64"
      ]
     },
     "execution_count": 34,
     "metadata": {},
     "output_type": "execute_result"
    }
   ],
   "source": [
    "%%time\n",
    "psdf[\"trip_miles\"].max()"
   ]
  },
  {
   "cell_type": "code",
   "execution_count": 35,
   "id": "9e3a06d4-4807-40f9-8bf1-8e53bac4f2a6",
   "metadata": {
    "editable": true,
    "slideshow": {
     "slide_type": ""
    },
    "tags": []
   },
   "outputs": [],
   "source": [
    "ps.set_option(\"display.max_rows\", 101)"
   ]
  },
  {
   "cell_type": "code",
   "execution_count": 36,
   "id": "b1e835f5-a7ba-42f5-b146-3a208f704d93",
   "metadata": {},
   "outputs": [],
   "source": [
    "from pyspark.sql.functions import date_format"
   ]
  },
  {
   "cell_type": "code",
   "execution_count": 37,
   "id": "80444a0e-1e0f-4eb5-8a7a-1848bf29ce73",
   "metadata": {
    "editable": true,
    "slideshow": {
     "slide_type": ""
    },
    "tags": []
   },
   "outputs": [
    {
     "name": "stdout",
     "output_type": "stream",
     "text": [
      "+-------------------+----------+-------+\n",
      "|   request_datetime|trip_miles|     MM|\n",
      "+-------------------+----------+-------+\n",
      "|2021-01-31 23:59:00|      2.06|2021-01|\n",
      "|2021-02-01 00:13:35|      3.15|2021-02|\n",
      "|2021-02-01 00:12:55|     1.776|2021-02|\n",
      "|2021-02-01 00:36:01|    13.599|2021-02|\n",
      "|2021-01-31 23:57:50|      2.62|2021-01|\n",
      "|2021-02-01 00:11:48|      6.89|2021-02|\n",
      "|2021-02-01 00:39:45|      4.26|2021-02|\n",
      "|2021-01-31 23:55:59|      2.95|2021-01|\n",
      "|2021-02-01 00:27:54|      3.41|2021-02|\n",
      "|2021-01-31 23:56:04|    15.998|2021-01|\n",
      "|2021-02-01 00:46:24|     2.354|2021-02|\n",
      "|2021-01-31 23:59:26|     9.643|2021-01|\n",
      "|2021-02-01 00:31:01|    10.231|2021-02|\n",
      "|2021-01-31 23:58:59|      2.69|2021-01|\n",
      "|2021-02-01 00:19:07|       0.6|2021-02|\n",
      "|2021-02-01 00:25:36|      8.37|2021-02|\n",
      "|2021-02-01 00:02:23|      1.88|2021-02|\n",
      "|2021-02-01 00:31:11|      8.04|2021-02|\n",
      "|2021-01-31 23:45:24|      4.29|2021-01|\n",
      "|2021-02-01 00:08:40|      1.53|2021-02|\n",
      "+-------------------+----------+-------+\n",
      "only showing top 20 rows\n",
      "\n"
     ]
    }
   ],
   "source": [
    "req_dt = (\n",
    "    sdf.select([\"request_datetime\", \"trip_miles\"])\n",
    "    .withColumn(\"MM\", date_format(\"request_datetime\", \"yyyy-MM\"))\n",
    "    .show()\n",
    ")"
   ]
  },
  {
   "cell_type": "code",
   "execution_count": 38,
   "id": "71c781ac-1f0f-4f55-984b-af76f4ef9f61",
   "metadata": {},
   "outputs": [
    {
     "data": {
      "text/plain": [
       "<bound method DataFrame.select of DataFrame[hvfhs_license_num: string, dispatching_base_num: string, originating_base_num: string, request_datetime: timestamp_ntz, on_scene_datetime: timestamp_ntz, pickup_datetime: timestamp_ntz, dropoff_datetime: timestamp_ntz, PULocationID: bigint, DOLocationID: bigint, trip_miles: double, trip_time: bigint, base_passenger_fare: double, tolls: double, bcf: double, sales_tax: double, congestion_surcharge: double, airport_fee: double, tips: double, driver_pay: double, shared_request_flag: string, shared_match_flag: string, access_a_ride_flag: string, wav_request_flag: string, wav_match_flag: string]>"
      ]
     },
     "execution_count": 38,
     "metadata": {},
     "output_type": "execute_result"
    }
   ],
   "source": [
    "sdf.select"
   ]
  },
  {
   "cell_type": "code",
   "execution_count": 39,
   "id": "47158fde-1ec0-4ec6-95c7-8f95743061be",
   "metadata": {
    "editable": true,
    "slideshow": {
     "slide_type": ""
    },
    "tags": []
   },
   "outputs": [],
   "source": [
    "from pyspark.sql.types import StructType, StructField, DoubleType"
   ]
  },
  {
   "cell_type": "markdown",
   "id": "3ec78bda-b358-425a-8389-2523302b5166",
   "metadata": {},
   "source": [
    "## applyInPandas (Apache Arrow in PySpark)\n",
    "https://spark.apache.org/docs/latest/api/python/user_guide/sql/arrow_pandas.html"
   ]
  },
  {
   "cell_type": "markdown",
   "id": "131c35a2-1852-4013-abf4-d6f063e7b760",
   "metadata": {},
   "source": [
    "### Pandas UDFs (a.k.a. Vectorized UDFs)"
   ]
  },
  {
   "cell_type": "code",
   "execution_count": 40,
   "id": "2f8032a8-c637-4aa2-a4c1-2ee820e44d67",
   "metadata": {
    "editable": true,
    "slideshow": {
     "slide_type": ""
    },
    "tags": []
   },
   "outputs": [
    {
     "name": "stdout",
     "output_type": "stream",
     "text": [
      "+-----------------+--------------------+--------------------+-------------------+-------------------+-------------------+-------------------+------------+------------+----------+---------+-------------------+-----+---+---------+--------------------+-----------+-----+----------+-------------------+-----------------+------------------+----------------+--------------+----+\n",
      "|hvfhs_license_num|dispatching_base_num|originating_base_num|   request_datetime|  on_scene_datetime|    pickup_datetime|   dropoff_datetime|PULocationID|DOLocationID|trip_miles|trip_time|base_passenger_fare|tolls|bcf|sales_tax|congestion_surcharge|airport_fee| tips|driver_pay|shared_request_flag|shared_match_flag|access_a_ride_flag|wav_request_flag|wav_match_flag|   v|\n",
      "+-----------------+--------------------+--------------------+-------------------+-------------------+-------------------+-------------------+------------+------------+----------+---------+-------------------+-----+---+---------+--------------------+-----------+-----+----------+-------------------+-----------------+------------------+----------------+--------------+----+\n",
      "|           HV0003|              B02765|              B02765|2021-06-03 13:31:09|2021-06-03 13:32:55|2021-06-03 13:34:55|2021-06-03 14:48:42|         161|         176|     21.25|     4427|                0.0|  0.0|0.0|      0.0|                 0.0|        0.0|  5.0|    -16.61|                  N|                N|                  |               N|             N|null|\n",
      "|           HV0003|              B02764|              B02764|2021-06-03 13:48:35|2021-06-03 13:52:50|2021-06-03 13:54:51|2021-06-03 14:34:20|          18|         265|      12.2|     2369|                0.0|  0.0|0.0|      0.0|                 0.0|        0.0|  3.0|    -16.61|                  N|                N|                  |               N|             N|null|\n",
      "|           HV0003|              B02869|              B02869|2021-06-03 13:24:49|2021-06-03 13:26:24|2021-06-03 13:27:10|2021-06-03 14:13:20|         218|         161|     15.51|     2770|                0.0|  0.0|0.0|      0.0|                 0.0|        0.0|  0.0|    -11.86|                  N|                N|                  |               N|             N|null|\n",
      "|           HV0003|              B02884|              B02884|2021-06-03 14:28:19|2021-06-03 14:33:21|2021-06-03 14:34:18|2021-06-03 15:11:02|         138|         161|      8.93|     2204|                0.0|  0.0|0.0|      0.0|                 0.0|        0.0|  0.0|    -11.64|                  N|                N|                  |               N|             N|null|\n",
      "|           HV0003|              B02887|              B02887|2021-06-03 14:57:12|2021-06-03 14:59:51|2021-06-03 15:01:39|2021-06-03 15:39:34|         114|          22|     10.21|     2275|                0.0|  0.0|0.0|      0.0|                 0.0|        0.0|15.31|     -9.41|                  N|                N|                  |               N|             N|null|\n",
      "|           HV0003|              B02878|              B02878|2021-06-03 15:17:33|2021-06-03 15:19:45|2021-06-03 15:20:50|2021-06-03 15:43:18|         107|         146|      3.67|     1348|                0.0|  0.0|0.0|      0.0|                 0.0|        0.0|  2.0|     -9.41|                  N|                N|                  |               N|             N|null|\n",
      "|           HV0003|              B02765|              B02765|2021-06-03 12:34:40|2021-06-03 12:35:26|2021-06-03 12:38:53|2021-06-03 13:12:08|          13|          48|      4.27|     1995|                0.0|  0.0|0.0|      0.0|                 0.0|        0.0|  0.0|     -4.64|                  N|                N|                  |               N|             N|null|\n",
      "|           HV0003|              B02764|              B02764|2021-06-03 13:50:24|2021-06-03 13:55:49|2021-06-03 13:55:58|2021-06-03 14:24:45|         116|         234|      8.55|     1727|                0.0|  0.0|0.0|      0.0|                 0.0|        0.0|  0.0|     -4.64|                  N|                N|                  |               N|             N|null|\n",
      "|           HV0003|              B02765|              B02765|2021-06-03 13:11:10|2021-06-03 13:12:31|2021-06-03 13:14:32|2021-06-03 13:43:52|          37|         138|      9.73|     1760|                0.0|  0.0|0.0|      0.0|                 0.0|        0.0|10.19|     -4.64|                  N|                N|                  |               N|             N|null|\n",
      "|           HV0003|              B02512|              B02512|2021-06-03 13:51:03|2021-06-03 13:54:53|2021-06-03 13:55:13|2021-06-03 14:20:18|         143|          87|      7.04|     1505|                0.0|  0.0|0.0|      0.0|                 0.0|        0.0| 5.25|     -4.64|                  N|                N|                  |               N|             N|null|\n",
      "|           HV0003|              B02764|              B02764|2021-06-03 14:08:19|2021-06-03 14:18:34|2021-06-03 14:20:35|2021-06-03 14:54:58|         168|         186|      7.36|     2063|              -3.48|  0.0|0.0|      0.0|                 0.0|        0.0|  0.0|     -4.64|                  N|                N|                  |               N|             N|null|\n",
      "|           HV0003|              B02889|              B02889|2021-06-03 13:56:24|2021-06-03 13:58:52|2021-06-03 14:00:52|2021-06-03 14:24:09|         238|         265|     13.25|     1397|                0.0|  0.0|0.0|      0.0|                 0.0|        0.0|  0.0|     -4.64|                  N|                N|                  |               N|             N|null|\n",
      "|           HV0003|              B02866|              B02866|2021-06-03 14:15:11|2021-06-03 14:15:24|2021-06-03 14:17:31|2021-06-03 14:36:46|         162|         236|      2.04|     1155|                0.0|  0.0|0.0|      0.0|                 0.0|        0.0|  3.5|     -4.64|                  N|                N|                  |               N|             N|null|\n",
      "|           HV0003|              B02765|              B02765|2021-06-03 14:42:38|2021-06-03 14:47:03|2021-06-03 14:47:17|2021-06-03 15:16:22|          45|         227|      8.58|     1745|                0.0|  0.0|0.0|      0.0|                 0.0|        0.0|  0.0|     -4.64|                  N|                N|                  |               N|             N|null|\n",
      "|           HV0003|              B02875|              B02875|2021-06-03 14:33:41|2021-06-03 14:41:44|2021-06-03 14:42:09|2021-06-03 15:08:18|         230|          87|      6.51|     1569|                0.0|  0.0|0.0|      0.0|                 0.0|        0.0|  0.0|     -4.64|                  N|                N|                  |               N|             N|null|\n",
      "|           HV0003|              B02887|              B02887|2021-06-03 12:54:30|2021-06-03 12:54:42|2021-06-03 12:55:53|2021-06-03 13:34:09|         231|          69|     12.83|     2296|                0.0|  0.0|0.0|      0.0|                 0.0|        0.0|  0.0|      -3.9|                  N|                N|                  |               N|             N| 0.0|\n",
      "|           HV0003|              B02883|              B02883|2021-06-03 12:36:49|2021-06-03 12:40:32|2021-06-03 12:41:28|2021-06-03 13:06:17|         246|         237|      3.59|     1489|                0.0|  0.0|0.0|      0.0|                 0.0|        0.0|  0.0|      -3.9|                  N|                N|                  |               N|             N| 0.0|\n",
      "|           HV0003|              B02871|              B02871|2021-06-03 13:41:14|2021-06-03 13:42:03|2021-06-03 13:45:09|2021-06-03 14:02:27|         237|          68|      3.26|     1038|                0.0|  0.0|0.0|      0.0|                 0.0|        0.0|  0.0|      -3.9|                  N|                N|                  |               N|             N| 0.0|\n",
      "|           HV0003|              B02864|              B02864|2021-06-03 14:50:55|2021-06-03 14:51:24|2021-06-03 14:52:22|2021-06-03 15:48:12|          70|         188|     12.84|     3350|                0.0|  0.0|0.0|      0.0|                 0.0|        0.0|  0.0|      -3.9|                  N|                N|                  |               N|             N| 0.0|\n",
      "|           HV0003|              B02887|              B02887|2021-06-03 14:51:35|2021-06-03 14:54:41|2021-06-03 14:55:16|2021-06-03 15:20:25|         246|          88|      4.45|     1509|                0.0|  0.0|0.0|      0.0|                 0.0|        0.0|  0.0|      -3.9|                  N|                N|                  |               N|             N| 0.0|\n",
      "+-----------------+--------------------+--------------------+-------------------+-------------------+-------------------+-------------------+------------+------------+----------+---------+-------------------+-----+---+---------+--------------------+-----------+-----+----------+-------------------+-----------------+------------------+----------------+--------------+----+\n",
      "only showing top 20 rows\n",
      "\n",
      "CPU times: user 32.6 ms, sys: 14.1 ms, total: 46.7 ms\n",
      "Wall time: 2min 37s\n"
     ]
    }
   ],
   "source": [
    "%%time\n",
    "schema = StructType(sdf.schema.fields + [StructField(\"v\", DoubleType())])\n",
    "\n",
    "\n",
    "def vector_normalize(values):\n",
    "    v1 = values.driver_pay\n",
    "    values[\"v\"] = (v1 - v1.mean()) / v1.std()\n",
    "    return values\n",
    "\n",
    "\n",
    "group_columns = [\"hvfhs_license_num\", \"driver_pay\"]\n",
    "df_pandas_norm = sdf.groupby(*group_columns).applyInPandas(\n",
    "    vector_normalize, schema=schema\n",
    ")\n",
    "df_pandas_norm.show()"
   ]
  },
  {
   "cell_type": "raw",
   "id": "39fc37e5-9a8a-4fce-98c7-3b98f6715e9e",
   "metadata": {
    "editable": true,
    "raw_mimetype": "",
    "slideshow": {
     "slide_type": ""
    },
    "tags": []
   },
   "source": [
    "CPU times: user 34.2 ms, sys: 23.1 ms, total: 57.3 ms\n",
    "Wall time: 3min 1s"
   ]
  },
  {
   "cell_type": "code",
   "execution_count": 44,
   "id": "8e6868fc-3b0b-4129-ac43-b21c76281a77",
   "metadata": {
    "editable": true,
    "slideshow": {
     "slide_type": ""
    },
    "tags": []
   },
   "outputs": [
    {
     "data": {
      "text/html": [
       "<div>\n",
       "<style scoped>\n",
       "    .dataframe tbody tr th:only-of-type {\n",
       "        vertical-align: middle;\n",
       "    }\n",
       "\n",
       "    .dataframe tbody tr th {\n",
       "        vertical-align: top;\n",
       "    }\n",
       "\n",
       "    .dataframe thead th {\n",
       "        text-align: right;\n",
       "    }\n",
       "</style>\n",
       "<table border=\"1\" class=\"dataframe\">\n",
       "  <thead>\n",
       "    <tr style=\"text-align: right;\">\n",
       "      <th></th>\n",
       "      <th>hvfhs_license_num</th>\n",
       "      <th>dispatching_base_num</th>\n",
       "      <th>originating_base_num</th>\n",
       "      <th>request_datetime</th>\n",
       "      <th>on_scene_datetime</th>\n",
       "      <th>pickup_datetime</th>\n",
       "      <th>dropoff_datetime</th>\n",
       "      <th>PULocationID</th>\n",
       "      <th>DOLocationID</th>\n",
       "      <th>trip_miles</th>\n",
       "      <th>...</th>\n",
       "      <th>sales_tax</th>\n",
       "      <th>congestion_surcharge</th>\n",
       "      <th>airport_fee</th>\n",
       "      <th>tips</th>\n",
       "      <th>driver_pay</th>\n",
       "      <th>shared_request_flag</th>\n",
       "      <th>shared_match_flag</th>\n",
       "      <th>access_a_ride_flag</th>\n",
       "      <th>wav_request_flag</th>\n",
       "      <th>wav_match_flag</th>\n",
       "    </tr>\n",
       "  </thead>\n",
       "  <tbody>\n",
       "    <tr>\n",
       "      <th>0</th>\n",
       "      <td>HV0003</td>\n",
       "      <td>B02764</td>\n",
       "      <td>B02764</td>\n",
       "      <td>2021-01-31 23:59:00</td>\n",
       "      <td>2021-02-01 00:10:19</td>\n",
       "      <td>2021-02-01 00:10:40</td>\n",
       "      <td>2021-02-01 00:21:09</td>\n",
       "      <td>35</td>\n",
       "      <td>39</td>\n",
       "      <td>2.060</td>\n",
       "      <td>...</td>\n",
       "      <td>1.52</td>\n",
       "      <td>0.0</td>\n",
       "      <td>NaN</td>\n",
       "      <td>0.0</td>\n",
       "      <td>9.79</td>\n",
       "      <td>N</td>\n",
       "      <td>N</td>\n",
       "      <td></td>\n",
       "      <td>N</td>\n",
       "      <td>N</td>\n",
       "    </tr>\n",
       "    <tr>\n",
       "      <th>1</th>\n",
       "      <td>HV0003</td>\n",
       "      <td>B02764</td>\n",
       "      <td>B02764</td>\n",
       "      <td>2021-02-01 00:13:35</td>\n",
       "      <td>2021-02-01 00:25:23</td>\n",
       "      <td>2021-02-01 00:27:23</td>\n",
       "      <td>2021-02-01 00:44:01</td>\n",
       "      <td>39</td>\n",
       "      <td>35</td>\n",
       "      <td>3.150</td>\n",
       "      <td>...</td>\n",
       "      <td>2.85</td>\n",
       "      <td>0.0</td>\n",
       "      <td>NaN</td>\n",
       "      <td>0.0</td>\n",
       "      <td>24.01</td>\n",
       "      <td>N</td>\n",
       "      <td>N</td>\n",
       "      <td></td>\n",
       "      <td>N</td>\n",
       "      <td>N</td>\n",
       "    </tr>\n",
       "    <tr>\n",
       "      <th>2</th>\n",
       "      <td>HV0005</td>\n",
       "      <td>B02510</td>\n",
       "      <td>None</td>\n",
       "      <td>2021-02-01 00:12:55</td>\n",
       "      <td>NaT</td>\n",
       "      <td>2021-02-01 00:28:38</td>\n",
       "      <td>2021-02-01 00:38:27</td>\n",
       "      <td>39</td>\n",
       "      <td>91</td>\n",
       "      <td>1.776</td>\n",
       "      <td>...</td>\n",
       "      <td>1.12</td>\n",
       "      <td>0.0</td>\n",
       "      <td>NaN</td>\n",
       "      <td>0.0</td>\n",
       "      <td>6.91</td>\n",
       "      <td>N</td>\n",
       "      <td>N</td>\n",
       "      <td>N</td>\n",
       "      <td>N</td>\n",
       "      <td>N</td>\n",
       "    </tr>\n",
       "    <tr>\n",
       "      <th>3</th>\n",
       "      <td>HV0005</td>\n",
       "      <td>B02510</td>\n",
       "      <td>None</td>\n",
       "      <td>2021-02-01 00:36:01</td>\n",
       "      <td>NaT</td>\n",
       "      <td>2021-02-01 00:43:37</td>\n",
       "      <td>2021-02-01 01:23:20</td>\n",
       "      <td>91</td>\n",
       "      <td>228</td>\n",
       "      <td>13.599</td>\n",
       "      <td>...</td>\n",
       "      <td>2.91</td>\n",
       "      <td>0.0</td>\n",
       "      <td>NaN</td>\n",
       "      <td>7.0</td>\n",
       "      <td>35.05</td>\n",
       "      <td>N</td>\n",
       "      <td>N</td>\n",
       "      <td>N</td>\n",
       "      <td>N</td>\n",
       "      <td>N</td>\n",
       "    </tr>\n",
       "    <tr>\n",
       "      <th>4</th>\n",
       "      <td>HV0003</td>\n",
       "      <td>B02872</td>\n",
       "      <td>B02872</td>\n",
       "      <td>2021-01-31 23:57:50</td>\n",
       "      <td>2021-02-01 00:08:25</td>\n",
       "      <td>2021-02-01 00:08:42</td>\n",
       "      <td>2021-02-01 00:17:57</td>\n",
       "      <td>126</td>\n",
       "      <td>250</td>\n",
       "      <td>2.620</td>\n",
       "      <td>...</td>\n",
       "      <td>1.38</td>\n",
       "      <td>0.0</td>\n",
       "      <td>NaN</td>\n",
       "      <td>0.0</td>\n",
       "      <td>8.53</td>\n",
       "      <td>N</td>\n",
       "      <td>N</td>\n",
       "      <td></td>\n",
       "      <td>N</td>\n",
       "      <td>N</td>\n",
       "    </tr>\n",
       "    <tr>\n",
       "      <th>5</th>\n",
       "      <td>HV0003</td>\n",
       "      <td>B02872</td>\n",
       "      <td>B02872</td>\n",
       "      <td>2021-02-01 00:11:48</td>\n",
       "      <td>2021-02-01 00:24:25</td>\n",
       "      <td>2021-02-01 00:26:02</td>\n",
       "      <td>2021-02-01 00:42:51</td>\n",
       "      <td>208</td>\n",
       "      <td>243</td>\n",
       "      <td>6.890</td>\n",
       "      <td>...</td>\n",
       "      <td>1.77</td>\n",
       "      <td>0.0</td>\n",
       "      <td>NaN</td>\n",
       "      <td>0.0</td>\n",
       "      <td>16.05</td>\n",
       "      <td>N</td>\n",
       "      <td>N</td>\n",
       "      <td></td>\n",
       "      <td>N</td>\n",
       "      <td>N</td>\n",
       "    </tr>\n",
       "    <tr>\n",
       "      <th>6</th>\n",
       "      <td>HV0003</td>\n",
       "      <td>B02872</td>\n",
       "      <td>B02872</td>\n",
       "      <td>2021-02-01 00:39:45</td>\n",
       "      <td>2021-02-01 00:44:57</td>\n",
       "      <td>2021-02-01 00:45:50</td>\n",
       "      <td>2021-02-01 01:02:50</td>\n",
       "      <td>243</td>\n",
       "      <td>220</td>\n",
       "      <td>4.260</td>\n",
       "      <td>...</td>\n",
       "      <td>3.76</td>\n",
       "      <td>0.0</td>\n",
       "      <td>NaN</td>\n",
       "      <td>0.0</td>\n",
       "      <td>25.42</td>\n",
       "      <td>N</td>\n",
       "      <td>N</td>\n",
       "      <td></td>\n",
       "      <td>N</td>\n",
       "      <td>N</td>\n",
       "    </tr>\n",
       "    <tr>\n",
       "      <th>7</th>\n",
       "      <td>HV0003</td>\n",
       "      <td>B02764</td>\n",
       "      <td>B02764</td>\n",
       "      <td>2021-01-31 23:55:59</td>\n",
       "      <td>2021-02-01 00:04:42</td>\n",
       "      <td>2021-02-01 00:06:42</td>\n",
       "      <td>2021-02-01 00:31:50</td>\n",
       "      <td>49</td>\n",
       "      <td>37</td>\n",
       "      <td>2.950</td>\n",
       "      <td>...</td>\n",
       "      <td>2.40</td>\n",
       "      <td>0.0</td>\n",
       "      <td>NaN</td>\n",
       "      <td>0.0</td>\n",
       "      <td>22.29</td>\n",
       "      <td>N</td>\n",
       "      <td>N</td>\n",
       "      <td></td>\n",
       "      <td>N</td>\n",
       "      <td>N</td>\n",
       "    </tr>\n",
       "    <tr>\n",
       "      <th>8</th>\n",
       "      <td>HV0003</td>\n",
       "      <td>B02764</td>\n",
       "      <td>B02764</td>\n",
       "      <td>2021-02-01 00:27:54</td>\n",
       "      <td>2021-02-01 00:33:12</td>\n",
       "      <td>2021-02-01 00:34:34</td>\n",
       "      <td>2021-02-01 00:58:13</td>\n",
       "      <td>37</td>\n",
       "      <td>76</td>\n",
       "      <td>3.410</td>\n",
       "      <td>...</td>\n",
       "      <td>2.03</td>\n",
       "      <td>0.0</td>\n",
       "      <td>NaN</td>\n",
       "      <td>0.0</td>\n",
       "      <td>23.77</td>\n",
       "      <td>N</td>\n",
       "      <td>N</td>\n",
       "      <td></td>\n",
       "      <td>N</td>\n",
       "      <td>N</td>\n",
       "    </tr>\n",
       "    <tr>\n",
       "      <th>9</th>\n",
       "      <td>HV0005</td>\n",
       "      <td>B02510</td>\n",
       "      <td>None</td>\n",
       "      <td>2021-01-31 23:56:04</td>\n",
       "      <td>NaT</td>\n",
       "      <td>2021-02-01 00:03:43</td>\n",
       "      <td>2021-02-01 00:39:37</td>\n",
       "      <td>80</td>\n",
       "      <td>241</td>\n",
       "      <td>15.998</td>\n",
       "      <td>...</td>\n",
       "      <td>4.44</td>\n",
       "      <td>0.0</td>\n",
       "      <td>NaN</td>\n",
       "      <td>0.0</td>\n",
       "      <td>35.80</td>\n",
       "      <td>N</td>\n",
       "      <td>N</td>\n",
       "      <td>N</td>\n",
       "      <td>N</td>\n",
       "      <td>N</td>\n",
       "    </tr>\n",
       "  </tbody>\n",
       "</table>\n",
       "<p>10 rows × 24 columns</p>\n",
       "</div>"
      ],
      "text/plain": [
       "  hvfhs_license_num dispatching_base_num originating_base_num  \\\n",
       "0            HV0003               B02764               B02764   \n",
       "1            HV0003               B02764               B02764   \n",
       "2            HV0005               B02510                 None   \n",
       "3            HV0005               B02510                 None   \n",
       "4            HV0003               B02872               B02872   \n",
       "5            HV0003               B02872               B02872   \n",
       "6            HV0003               B02872               B02872   \n",
       "7            HV0003               B02764               B02764   \n",
       "8            HV0003               B02764               B02764   \n",
       "9            HV0005               B02510                 None   \n",
       "\n",
       "     request_datetime   on_scene_datetime     pickup_datetime  \\\n",
       "0 2021-01-31 23:59:00 2021-02-01 00:10:19 2021-02-01 00:10:40   \n",
       "1 2021-02-01 00:13:35 2021-02-01 00:25:23 2021-02-01 00:27:23   \n",
       "2 2021-02-01 00:12:55                 NaT 2021-02-01 00:28:38   \n",
       "3 2021-02-01 00:36:01                 NaT 2021-02-01 00:43:37   \n",
       "4 2021-01-31 23:57:50 2021-02-01 00:08:25 2021-02-01 00:08:42   \n",
       "5 2021-02-01 00:11:48 2021-02-01 00:24:25 2021-02-01 00:26:02   \n",
       "6 2021-02-01 00:39:45 2021-02-01 00:44:57 2021-02-01 00:45:50   \n",
       "7 2021-01-31 23:55:59 2021-02-01 00:04:42 2021-02-01 00:06:42   \n",
       "8 2021-02-01 00:27:54 2021-02-01 00:33:12 2021-02-01 00:34:34   \n",
       "9 2021-01-31 23:56:04                 NaT 2021-02-01 00:03:43   \n",
       "\n",
       "     dropoff_datetime  PULocationID  DOLocationID  trip_miles  ...  sales_tax  \\\n",
       "0 2021-02-01 00:21:09            35            39       2.060  ...       1.52   \n",
       "1 2021-02-01 00:44:01            39            35       3.150  ...       2.85   \n",
       "2 2021-02-01 00:38:27            39            91       1.776  ...       1.12   \n",
       "3 2021-02-01 01:23:20            91           228      13.599  ...       2.91   \n",
       "4 2021-02-01 00:17:57           126           250       2.620  ...       1.38   \n",
       "5 2021-02-01 00:42:51           208           243       6.890  ...       1.77   \n",
       "6 2021-02-01 01:02:50           243           220       4.260  ...       3.76   \n",
       "7 2021-02-01 00:31:50            49            37       2.950  ...       2.40   \n",
       "8 2021-02-01 00:58:13            37            76       3.410  ...       2.03   \n",
       "9 2021-02-01 00:39:37            80           241      15.998  ...       4.44   \n",
       "\n",
       "   congestion_surcharge  airport_fee  tips  driver_pay  shared_request_flag  \\\n",
       "0                   0.0          NaN   0.0        9.79                    N   \n",
       "1                   0.0          NaN   0.0       24.01                    N   \n",
       "2                   0.0          NaN   0.0        6.91                    N   \n",
       "3                   0.0          NaN   7.0       35.05                    N   \n",
       "4                   0.0          NaN   0.0        8.53                    N   \n",
       "5                   0.0          NaN   0.0       16.05                    N   \n",
       "6                   0.0          NaN   0.0       25.42                    N   \n",
       "7                   0.0          NaN   0.0       22.29                    N   \n",
       "8                   0.0          NaN   0.0       23.77                    N   \n",
       "9                   0.0          NaN   0.0       35.80                    N   \n",
       "\n",
       "   shared_match_flag  access_a_ride_flag  wav_request_flag wav_match_flag  \n",
       "0                  N                                     N              N  \n",
       "1                  N                                     N              N  \n",
       "2                  N                   N                 N              N  \n",
       "3                  N                   N                 N              N  \n",
       "4                  N                                     N              N  \n",
       "5                  N                                     N              N  \n",
       "6                  N                                     N              N  \n",
       "7                  N                                     N              N  \n",
       "8                  N                                     N              N  \n",
       "9                  N                   N                 N              N  \n",
       "\n",
       "[10 rows x 24 columns]"
      ]
     },
     "execution_count": 44,
     "metadata": {},
     "output_type": "execute_result"
    }
   ],
   "source": [
    "sdf.limit(10).toPandas()"
   ]
  },
  {
   "cell_type": "code",
   "execution_count": 41,
   "id": "069c137e-d430-4664-8965-85d42b9dda64",
   "metadata": {},
   "outputs": [],
   "source": [
    "from pyspark.sql.functions import col, desc"
   ]
  },
  {
   "cell_type": "code",
   "execution_count": 42,
   "id": "d4eb3610-eec7-4c01-bd46-8f022d483688",
   "metadata": {},
   "outputs": [
    {
     "data": {
      "text/plain": [
       "62415"
      ]
     },
     "execution_count": 42,
     "metadata": {},
     "output_type": "execute_result"
    }
   ],
   "source": [
    "sdf.where(sdf.sales_tax == 4.44).count()"
   ]
  },
  {
   "cell_type": "code",
   "execution_count": 43,
   "id": "c617c122-f20d-4c7b-b7c1-74155c972294",
   "metadata": {},
   "outputs": [
    {
     "name": "stdout",
     "output_type": "stream",
     "text": [
      "+-----------------+\n",
      "|hvfhs_license_num|\n",
      "+-----------------+\n",
      "|           HV0003|\n",
      "|           HV0003|\n",
      "|           HV0005|\n",
      "|           HV0005|\n",
      "|           HV0003|\n",
      "|           HV0003|\n",
      "|           HV0003|\n",
      "|           HV0003|\n",
      "|           HV0003|\n",
      "|           HV0005|\n",
      "|           HV0005|\n",
      "|           HV0005|\n",
      "|           HV0005|\n",
      "|           HV0003|\n",
      "|           HV0003|\n",
      "|           HV0003|\n",
      "|           HV0003|\n",
      "|           HV0003|\n",
      "|           HV0004|\n",
      "|           HV0004|\n",
      "+-----------------+\n",
      "only showing top 20 rows\n",
      "\n"
     ]
    }
   ],
   "source": [
    "sdf.select(\"hvfhs_license_num\").show()"
   ]
  },
  {
   "cell_type": "code",
   "execution_count": 12,
   "id": "e9269788-7065-45d4-9dba-0ac2aad84ade",
   "metadata": {},
   "outputs": [],
   "source": [
    "import os\n",
    "os.environ[\"PYARROW_IGNORE_TIMEZONE\"] = \"1\""
   ]
  },
  {
   "cell_type": "code",
   "execution_count": 22,
   "id": "6f6e236e-ddd1-4b72-813d-2ce31c6be686",
   "metadata": {},
   "outputs": [],
   "source": [
    "sdf.createOrReplaceTempView(\"hvfhs\")"
   ]
  },
  {
   "cell_type": "code",
   "execution_count": 23,
   "id": "24171408-2b5c-4241-98cf-3f0128ff9505",
   "metadata": {},
   "outputs": [
    {
     "name": "stdout",
     "output_type": "stream",
     "text": [
      "+-----------------+---------+\n",
      "|hvfhs_license_num|sales_tax|\n",
      "+-----------------+---------+\n",
      "|           HV0004|     1.42|\n",
      "|           HV0004|     1.04|\n",
      "|           HV0004|     2.55|\n",
      "|           HV0004|      2.1|\n",
      "|           HV0004|     3.53|\n",
      "+-----------------+---------+\n",
      "only showing top 5 rows\n",
      "\n"
     ]
    }
   ],
   "source": [
    "spark.sql(\"\"\" SELECT  hvfhs_license_num, sales_tax FROM hvfhs \n",
    "          WHERE hvfhs_license_num = 'HV0004' \"\"\") \\\n",
    "     .show(5)"
   ]
  },
  {
   "cell_type": "code",
   "execution_count": 25,
   "id": "b51010c5-c12a-418c-9195-a84f7cebc82f",
   "metadata": {},
   "outputs": [
    {
     "name": "stdout",
     "output_type": "stream",
     "text": [
      "+--------+\n",
      "|count(1)|\n",
      "+--------+\n",
      "|  781804|\n",
      "+--------+\n",
      "\n"
     ]
    }
   ],
   "source": [
    "spark.sql(\"\"\" SELECT count(*) FROM hvfhs \n",
    "          WHERE hvfhs_license_num = 'HV0004' \"\"\") \\\n",
    "     .show(5)"
   ]
  }
 ],
 "metadata": {
  "kernelspec": {
   "display_name": "Python 3 (ipykernel)",
   "language": "python",
   "name": "python3"
  },
  "language_info": {
   "codemirror_mode": {
    "name": "ipython",
    "version": 3
   },
   "file_extension": ".py",
   "mimetype": "text/x-python",
   "name": "python",
   "nbconvert_exporter": "python",
   "pygments_lexer": "ipython3",
   "version": "3.11.5"
  }
 },
 "nbformat": 4,
 "nbformat_minor": 5
}
