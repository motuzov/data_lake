{
 "cells": [
  {
   "cell_type": "code",
   "execution_count": null,
   "id": "006f0803-4f04-4cf4-b24b-e4c252091408",
   "metadata": {},
   "outputs": [],
   "source": [
    "import pyspark"
   ]
  },
  {
   "cell_type": "code",
   "execution_count": null,
   "id": "8002f2be-5e8d-4dfa-83ba-e48474922242",
   "metadata": {},
   "outputs": [],
   "source": [
    "%load_ext jupyter_black\n",
    "%load_ext autoreload\n",
    "%autoreload 2"
   ]
  },
  {
   "cell_type": "code",
   "execution_count": null,
   "id": "17bf52f4-9881-4543-9978-58664c2bab52",
   "metadata": {},
   "outputs": [],
   "source": [
    "pyspark.__version__"
   ]
  },
  {
   "cell_type": "markdown",
   "id": "10dfcf94-356a-48d4-9f5e-6e327f1e5155",
   "metadata": {},
   "source": [
    "https://spark.apache.org/docs/3.4.1/quick-start.html#self-contained-applications"
   ]
  },
  {
   "cell_type": "code",
   "execution_count": null,
   "id": "531738be-264e-4bed-bbfd-8c9aaed656c2",
   "metadata": {},
   "outputs": [],
   "source": [
    "from pyspark.sql import SparkSession\n",
    "from pyspark.sql.types import StructType"
   ]
  },
  {
   "cell_type": "code",
   "execution_count": null,
   "id": "9aef7fb4-4221-47ff-a527-6be09cb98159",
   "metadata": {},
   "outputs": [],
   "source": [
    "! echo $SPARK_HOME/README.md"
   ]
  },
  {
   "cell_type": "code",
   "execution_count": null,
   "id": "ba01fc59-9d0b-41a2-8d4f-22c1cf098410",
   "metadata": {},
   "outputs": [],
   "source": [
    "spark = (\n",
    "    SparkSession.builder.appName(\"SimpleApp\")\n",
    "    .config(\"spark.executor.memory\", \"2g\")\n",
    "    .config(\"spark.driver.memory\", \"2g\")\n",
    "    .config(\"spark.sql.execution.arrow.pyspark.enabled\", \"true\")\n",
    "    .master(\"local[4]\")\n",
    "    .getOrCreate()\n",
    ")"
   ]
  },
  {
   "cell_type": "code",
   "execution_count": null,
   "id": "00027f41-9f85-4a3e-b429-3e77f8387769",
   "metadata": {},
   "outputs": [],
   "source": [
    "471859200 / 268435456."
   ]
  },
  {
   "cell_type": "markdown",
   "id": "f034659f-4816-45d5-af9c-f1baa445fe90",
   "metadata": {},
   "source": [
    "When an app is created, Spark UI is available (default port 4040)."
   ]
  },
  {
   "cell_type": "markdown",
   "id": "7124a28c-1882-47a1-ad97-7f54ded7d2e2",
   "metadata": {},
   "source": [
    "http://localhost:32769/jobs/"
   ]
  },
  {
   "cell_type": "code",
   "execution_count": null,
   "id": "0cad49ef-ab0c-4f40-a2a7-6771a74fcffd",
   "metadata": {},
   "outputs": [],
   "source": [
    "spark.conf.get(\"spark.executor.memory\")"
   ]
  },
  {
   "cell_type": "code",
   "execution_count": null,
   "id": "d2ddc69b-0b0f-4942-918e-8436d5bb23aa",
   "metadata": {},
   "outputs": [],
   "source": [
    "spark.sparkContext._conf.getAll()"
   ]
  },
  {
   "cell_type": "code",
   "execution_count": null,
   "id": "4a775800-64af-4445-a860-fcd69cf09a1f",
   "metadata": {},
   "outputs": [],
   "source": [
    "spark.conf.get(\"spark.master\")"
   ]
  },
  {
   "cell_type": "code",
   "execution_count": null,
   "id": "8f4239df-dae7-4ee8-bc41-6651d61f0716",
   "metadata": {},
   "outputs": [],
   "source": [
    "! ls data/nyc_taxi/fhvhv_*"
   ]
  },
  {
   "cell_type": "code",
   "execution_count": null,
   "id": "dbf89e19-cdf0-4533-9713-765b997da9b1",
   "metadata": {},
   "outputs": [],
   "source": [
    "sdf = spark.read.parquet(\"data/nyc_taxi/fhvhv_tripdata_2021-0*\")"
   ]
  },
  {
   "cell_type": "code",
   "execution_count": null,
   "id": "06f4c2d7-f541-45f6-8c55-aa399da49f68",
   "metadata": {},
   "outputs": [],
   "source": [
    "sdf.printSchema()"
   ]
  },
  {
   "cell_type": "code",
   "execution_count": null,
   "id": "b1e835f5-a7ba-42f5-b146-3a208f704d93",
   "metadata": {},
   "outputs": [],
   "source": [
    "from pyspark.sql.functions import date_format"
   ]
  },
  {
   "cell_type": "code",
   "execution_count": null,
   "id": "80444a0e-1e0f-4eb5-8a7a-1848bf29ce73",
   "metadata": {},
   "outputs": [],
   "source": [
    "req_dt = (\n",
    "    sdf.select([\"request_datetime\", \"trip_miles\"])\n",
    "    .withColumn(\"MM\", date_format(\"request_datetime\", \"yyyy-MM\"))\n",
    "    .show()\n",
    ")"
   ]
  },
  {
   "cell_type": "code",
   "execution_count": null,
   "id": "71c781ac-1f0f-4f55-984b-af76f4ef9f61",
   "metadata": {},
   "outputs": [],
   "source": [
    "sdf.select"
   ]
  },
  {
   "cell_type": "code",
   "execution_count": null,
   "id": "47158fde-1ec0-4ec6-95c7-8f95743061be",
   "metadata": {},
   "outputs": [],
   "source": [
    "from pyspark.sql.types import StructType, StructField, DoubleType"
   ]
  },
  {
   "cell_type": "code",
   "execution_count": null,
   "id": "2f8032a8-c637-4aa2-a4c1-2ee820e44d67",
   "metadata": {},
   "outputs": [],
   "source": [
    "%%time\n",
    "schema = StructType(sdf.schema.fields + [StructField(\"v\", DoubleType())])\n",
    "\n",
    "\n",
    "def vector_normalize(values):\n",
    "    v1 = values.driver_pay\n",
    "    values[\"v\"] = (v1 - v1.mean()) / v1.std()\n",
    "    return values\n",
    "\n",
    "\n",
    "group_columns = [\"hvfhs_license_num\", \"driver_pay\"]\n",
    "df_pandas_norm = sdf.groupby(*group_columns).applyInPandas(\n",
    "    vector_normalize, schema=schema\n",
    ")\n",
    "df_pandas_norm.show()"
   ]
  },
  {
   "cell_type": "raw",
   "id": "39fc37e5-9a8a-4fce-98c7-3b98f6715e9e",
   "metadata": {},
   "source": [
    "CPU times: user 34.2 ms, sys: 23.1 ms, total: 57.3 ms\n",
    "Wall time: 3min 1s"
   ]
  },
  {
   "cell_type": "code",
   "execution_count": null,
   "id": "8e6868fc-3b0b-4129-ac43-b21c76281a77",
   "metadata": {},
   "outputs": [],
   "source": [
    "sdf.limit(10).toPandas()"
   ]
  },
  {
   "cell_type": "code",
   "execution_count": null,
   "id": "069c137e-d430-4664-8965-85d42b9dda64",
   "metadata": {},
   "outputs": [],
   "source": [
    "from pyspark.sql.functions import col, desc"
   ]
  },
  {
   "cell_type": "code",
   "execution_count": null,
   "id": "d4eb3610-eec7-4c01-bd46-8f022d483688",
   "metadata": {},
   "outputs": [],
   "source": [
    "sdf.where(sdf.sales_tax == 4.44).count()"
   ]
  },
  {
   "cell_type": "code",
   "execution_count": null,
   "id": "c617c122-f20d-4c7b-b7c1-74155c972294",
   "metadata": {},
   "outputs": [],
   "source": [
    "sdf.select(\"hvfhs_license_num\").show()"
   ]
  },
  {
   "cell_type": "code",
   "execution_count": null,
   "id": "7ea7aeaf-e217-48f9-80de-7057b1bdb5b7",
   "metadata": {},
   "outputs": [],
   "source": [
    "sdf.count()"
   ]
  },
  {
   "cell_type": "code",
   "execution_count": null,
   "id": "e9269788-7065-45d4-9dba-0ac2aad84ade",
   "metadata": {},
   "outputs": [],
   "source": [
    "import os\n",
    "os.environ[\"PYARROW_IGNORE_TIMEZONE\"] = \"1\""
   ]
  },
  {
   "cell_type": "code",
   "execution_count": null,
   "id": "6a390d41-2fe7-4a94-8084-3024223ee64a",
   "metadata": {},
   "outputs": [],
   "source": [
    "import pyspark.pandas as ps"
   ]
  },
  {
   "cell_type": "code",
   "execution_count": null,
   "id": "6f6e236e-ddd1-4b72-813d-2ce31c6be686",
   "metadata": {},
   "outputs": [],
   "source": [
    "sdf.createOrReplaceTempView(\"hvfhs\")"
   ]
  },
  {
   "cell_type": "code",
   "execution_count": null,
   "id": "24171408-2b5c-4241-98cf-3f0128ff9505",
   "metadata": {},
   "outputs": [],
   "source": [
    "spark.sql(\"\"\" SELECT  hvfhs_license_num, sales_tax FROM hvfhs \n",
    "          WHERE hvfhs_license_num = 'HV0004' \"\"\") \\\n",
    "     .show(5)"
   ]
  },
  {
   "cell_type": "code",
   "execution_count": null,
   "id": "b51010c5-c12a-418c-9195-a84f7cebc82f",
   "metadata": {},
   "outputs": [],
   "source": [
    "spark.sql(\"\"\" SELECT count(*) FROM hvfhs \n",
    "          WHERE hvfhs_license_num = 'HV0004' \"\"\") \\\n",
    "     .show(5)"
   ]
  }
 ],
 "metadata": {
  "kernelspec": {
   "display_name": "Python 3 (ipykernel)",
   "language": "python",
   "name": "python3"
  },
  "language_info": {
   "codemirror_mode": {
    "name": "ipython",
    "version": 3
   },
   "file_extension": ".py",
   "mimetype": "text/x-python",
   "name": "python",
   "nbconvert_exporter": "python",
   "pygments_lexer": "ipython3",
   "version": "3.11.5"
  }
 },
 "nbformat": 4,
 "nbformat_minor": 5
}
