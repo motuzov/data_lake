{
 "cells": [
  {
   "cell_type": "code",
   "execution_count": 3,
   "id": "32c3fbec-fd2e-4a97-8478-ee4485319fa0",
   "metadata": {},
   "outputs": [
    {
     "name": "stdout",
     "output_type": "stream",
     "text": [
      "Collecting duckdb\n",
      "  Obtaining dependency information for duckdb from https://files.pythonhosted.org/packages/79/22/f2b229ec92d559a30bba996e85feba966fe287c6fe837b9b388ddf921c1e/duckdb-0.8.1-cp311-cp311-manylinux_2_17_x86_64.manylinux2014_x86_64.whl.metadata\n",
      "  Downloading duckdb-0.8.1-cp311-cp311-manylinux_2_17_x86_64.manylinux2014_x86_64.whl.metadata (737 bytes)\n",
      "Downloading duckdb-0.8.1-cp311-cp311-manylinux_2_17_x86_64.manylinux2014_x86_64.whl (15.9 MB)\n",
      "\u001b[2K   \u001b[90m━━━━━━━━━━━━━━━━━━━━━━━━━━━━━━━━━━━━━━━━\u001b[0m \u001b[32m15.9/15.9 MB\u001b[0m \u001b[31m10.8 MB/s\u001b[0m eta \u001b[36m0:00:00\u001b[0m00:01\u001b[0m00:01\u001b[0m\n",
      "\u001b[?25hInstalling collected packages: duckdb\n",
      "Successfully installed duckdb-0.8.1\n"
     ]
    }
   ],
   "source": [
    "! pip install duckdb"
   ]
  },
  {
   "cell_type": "code",
   "execution_count": 5,
   "id": "29657cd2-e548-4ccd-98ce-396808f811c6",
   "metadata": {},
   "outputs": [
    {
     "name": "stdout",
     "output_type": "stream",
     "text": [
      "Collecting jupysql\n",
      "  Obtaining dependency information for jupysql from https://files.pythonhosted.org/packages/34/ca/4ea8ba339edb13f3cffcf76390b4f35f5f0478c994f254ccf1ae49104241/jupysql-0.10.2-py3-none-any.whl.metadata\n",
      "  Downloading jupysql-0.10.2-py3-none-any.whl.metadata (5.6 kB)\n",
      "Collecting prettytable (from jupysql)\n",
      "  Obtaining dependency information for prettytable from https://files.pythonhosted.org/packages/4d/81/316b6a55a0d1f327d04cc7b0ba9d04058cb62de6c3a4d4b0df280cbe3b0b/prettytable-3.9.0-py3-none-any.whl.metadata\n",
      "  Downloading prettytable-3.9.0-py3-none-any.whl.metadata (26 kB)\n",
      "Requirement already satisfied: ipython in /opt/conda/lib/python3.11/site-packages (from jupysql) (8.15.0)\n",
      "Requirement already satisfied: sqlalchemy in /opt/conda/lib/python3.11/site-packages (from jupysql) (2.0.20)\n",
      "Collecting sqlparse (from jupysql)\n",
      "  Downloading sqlparse-0.4.4-py3-none-any.whl (41 kB)\n",
      "\u001b[2K     \u001b[90m━━━━━━━━━━━━━━━━━━━━━━━━━━━━━━━━━━━━━━━━\u001b[0m \u001b[32m41.2/41.2 kB\u001b[0m \u001b[31m1.4 MB/s\u001b[0m eta \u001b[36m0:00:00\u001b[0m\n",
      "\u001b[?25hRequirement already satisfied: ipython-genutils>=0.1.0 in /opt/conda/lib/python3.11/site-packages (from jupysql) (0.2.0)\n",
      "Requirement already satisfied: jinja2 in /opt/conda/lib/python3.11/site-packages (from jupysql) (3.1.2)\n",
      "Collecting sqlglot>=11.3.7 (from jupysql)\n",
      "  Obtaining dependency information for sqlglot>=11.3.7 from https://files.pythonhosted.org/packages/33/bf/17f18b29d45c2f50b3b71b288bcbcf9148c81302ee01aa5865d48f670d42/sqlglot-18.11.6-py3-none-any.whl.metadata\n",
      "  Downloading sqlglot-18.11.6-py3-none-any.whl.metadata (15 kB)\n",
      "Collecting ploomber-core>=0.2.7 (from jupysql)\n",
      "  Obtaining dependency information for ploomber-core>=0.2.7 from https://files.pythonhosted.org/packages/12/3b/6c0b6e07ddfa759f925a030353ba98f1f23ab45ea04a0c4b8888e2ef93b6/ploomber_core-0.2.14-py3-none-any.whl.metadata\n",
      "  Downloading ploomber_core-0.2.14-py3-none-any.whl.metadata (498 bytes)\n",
      "Collecting jupysql-plugin (from jupysql)\n",
      "  Obtaining dependency information for jupysql-plugin from https://files.pythonhosted.org/packages/8d/23/005473708375e9e17c5913c6a6a1208bd4d2f20e4dccc98093fb8ec124d6/jupysql_plugin-0.2.5-py3-none-any.whl.metadata\n",
      "  Downloading jupysql_plugin-0.2.5-py3-none-any.whl.metadata (6.6 kB)\n",
      "Requirement already satisfied: click in /opt/conda/lib/python3.11/site-packages (from ploomber-core>=0.2.7->jupysql) (8.1.7)\n",
      "Requirement already satisfied: pyyaml in /opt/conda/lib/python3.11/site-packages (from ploomber-core>=0.2.7->jupysql) (6.0.1)\n",
      "Collecting posthog (from ploomber-core>=0.2.7->jupysql)\n",
      "  Obtaining dependency information for posthog from https://files.pythonhosted.org/packages/a7/73/35758818228c70348be4c3c66a76653c62e894e0e3c3461453c5341ca926/posthog-3.0.2-py2.py3-none-any.whl.metadata\n",
      "  Downloading posthog-3.0.2-py2.py3-none-any.whl.metadata (2.0 kB)\n",
      "Requirement already satisfied: backcall in /opt/conda/lib/python3.11/site-packages (from ipython->jupysql) (0.2.0)\n",
      "Requirement already satisfied: decorator in /opt/conda/lib/python3.11/site-packages (from ipython->jupysql) (5.1.1)\n",
      "Requirement already satisfied: jedi>=0.16 in /opt/conda/lib/python3.11/site-packages (from ipython->jupysql) (0.19.0)\n",
      "Requirement already satisfied: matplotlib-inline in /opt/conda/lib/python3.11/site-packages (from ipython->jupysql) (0.1.6)\n",
      "Requirement already satisfied: pickleshare in /opt/conda/lib/python3.11/site-packages (from ipython->jupysql) (0.7.5)\n",
      "Requirement already satisfied: prompt-toolkit!=3.0.37,<3.1.0,>=3.0.30 in /opt/conda/lib/python3.11/site-packages (from ipython->jupysql) (3.0.39)\n",
      "Requirement already satisfied: pygments>=2.4.0 in /opt/conda/lib/python3.11/site-packages (from ipython->jupysql) (2.16.1)\n",
      "Requirement already satisfied: stack-data in /opt/conda/lib/python3.11/site-packages (from ipython->jupysql) (0.6.2)\n",
      "Requirement already satisfied: traitlets>=5 in /opt/conda/lib/python3.11/site-packages (from ipython->jupysql) (5.9.0)\n",
      "Requirement already satisfied: pexpect>4.3 in /opt/conda/lib/python3.11/site-packages (from ipython->jupysql) (4.8.0)\n",
      "Requirement already satisfied: MarkupSafe>=2.0 in /opt/conda/lib/python3.11/site-packages (from jinja2->jupysql) (2.1.3)\n",
      "Requirement already satisfied: wcwidth in /opt/conda/lib/python3.11/site-packages (from prettytable->jupysql) (0.2.6)\n",
      "Requirement already satisfied: typing-extensions>=4.2.0 in /opt/conda/lib/python3.11/site-packages (from sqlalchemy->jupysql) (4.7.1)\n",
      "Requirement already satisfied: greenlet!=0.4.17 in /opt/conda/lib/python3.11/site-packages (from sqlalchemy->jupysql) (3.0.0rc3)\n",
      "Requirement already satisfied: parso<0.9.0,>=0.8.3 in /opt/conda/lib/python3.11/site-packages (from jedi>=0.16->ipython->jupysql) (0.8.3)\n",
      "Requirement already satisfied: ptyprocess>=0.5 in /opt/conda/lib/python3.11/site-packages (from pexpect>4.3->ipython->jupysql) (0.7.0)\n",
      "Requirement already satisfied: requests<3.0,>=2.7 in /opt/conda/lib/python3.11/site-packages (from posthog->ploomber-core>=0.2.7->jupysql) (2.31.0)\n",
      "Requirement already satisfied: six>=1.5 in /opt/conda/lib/python3.11/site-packages (from posthog->ploomber-core>=0.2.7->jupysql) (1.16.0)\n",
      "Collecting monotonic>=1.5 (from posthog->ploomber-core>=0.2.7->jupysql)\n",
      "  Downloading monotonic-1.6-py2.py3-none-any.whl (8.2 kB)\n",
      "Requirement already satisfied: backoff>=1.10.0 in /opt/conda/lib/python3.11/site-packages (from posthog->ploomber-core>=0.2.7->jupysql) (2.2.1)\n",
      "Requirement already satisfied: python-dateutil>2.1 in /opt/conda/lib/python3.11/site-packages (from posthog->ploomber-core>=0.2.7->jupysql) (2.8.2)\n",
      "Requirement already satisfied: executing>=1.2.0 in /opt/conda/lib/python3.11/site-packages (from stack-data->ipython->jupysql) (1.2.0)\n",
      "Requirement already satisfied: asttokens>=2.1.0 in /opt/conda/lib/python3.11/site-packages (from stack-data->ipython->jupysql) (2.2.1)\n",
      "Requirement already satisfied: pure-eval in /opt/conda/lib/python3.11/site-packages (from stack-data->ipython->jupysql) (0.2.2)\n",
      "Requirement already satisfied: charset-normalizer<4,>=2 in /opt/conda/lib/python3.11/site-packages (from requests<3.0,>=2.7->posthog->ploomber-core>=0.2.7->jupysql) (3.2.0)\n",
      "Requirement already satisfied: idna<4,>=2.5 in /opt/conda/lib/python3.11/site-packages (from requests<3.0,>=2.7->posthog->ploomber-core>=0.2.7->jupysql) (3.4)\n",
      "Requirement already satisfied: urllib3<3,>=1.21.1 in /opt/conda/lib/python3.11/site-packages (from requests<3.0,>=2.7->posthog->ploomber-core>=0.2.7->jupysql) (1.26.16)\n",
      "Requirement already satisfied: certifi>=2017.4.17 in /opt/conda/lib/python3.11/site-packages (from requests<3.0,>=2.7->posthog->ploomber-core>=0.2.7->jupysql) (2023.7.22)\n",
      "Downloading jupysql-0.10.2-py3-none-any.whl (87 kB)\n",
      "\u001b[2K   \u001b[90m━━━━━━━━━━━━━━━━━━━━━━━━━━━━━━━━━━━━━━━━\u001b[0m \u001b[32m87.6/87.6 kB\u001b[0m \u001b[31m7.0 MB/s\u001b[0m eta \u001b[36m0:00:00\u001b[0m\n",
      "\u001b[?25hDownloading ploomber_core-0.2.14-py3-none-any.whl (21 kB)\n",
      "Downloading sqlglot-18.11.6-py3-none-any.whl (315 kB)\n",
      "\u001b[2K   \u001b[90m━━━━━━━━━━━━━━━━━━━━━━━━━━━━━━━━━━━━━━━━\u001b[0m \u001b[32m315.9/315.9 kB\u001b[0m \u001b[31m4.2 MB/s\u001b[0m eta \u001b[36m0:00:00\u001b[0ma \u001b[36m0:00:01\u001b[0m\n",
      "\u001b[?25hDownloading jupysql_plugin-0.2.5-py3-none-any.whl (376 kB)\n",
      "\u001b[2K   \u001b[90m━━━━━━━━━━━━━━━━━━━━━━━━━━━━━━━━━━━━━━━━\u001b[0m \u001b[32m376.5/376.5 kB\u001b[0m \u001b[31m8.1 MB/s\u001b[0m eta \u001b[36m0:00:00\u001b[0mta \u001b[36m0:00:01\u001b[0m\n",
      "\u001b[?25hDownloading prettytable-3.9.0-py3-none-any.whl (27 kB)\n",
      "Downloading posthog-3.0.2-py2.py3-none-any.whl (37 kB)\n",
      "Installing collected packages: monotonic, sqlparse, sqlglot, prettytable, posthog, ploomber-core, jupysql-plugin, jupysql\n",
      "Successfully installed jupysql-0.10.2 jupysql-plugin-0.2.5 monotonic-1.6 ploomber-core-0.2.14 posthog-3.0.2 prettytable-3.9.0 sqlglot-18.11.6 sqlparse-0.4.4\n"
     ]
    }
   ],
   "source": [
    "! pip install jupysql"
   ]
  },
  {
   "cell_type": "code",
   "execution_count": 3,
   "id": "443e7845-ea60-43e1-9a7b-605ebc4f553f",
   "metadata": {},
   "outputs": [
    {
     "name": "stdout",
     "output_type": "stream",
     "text": [
      "Collecting duckdb-engine\n",
      "  Obtaining dependency information for duckdb-engine from https://files.pythonhosted.org/packages/f3/6c/17298ff413db694b87ce0e3eea1685ffe47987fb64e46cd6b673bac53177/duckdb_engine-0.9.2-py3-none-any.whl.metadata\n",
      "  Downloading duckdb_engine-0.9.2-py3-none-any.whl.metadata (6.8 kB)\n",
      "Requirement already satisfied: duckdb>=0.4.0 in /opt/conda/lib/python3.11/site-packages (from duckdb-engine) (0.8.1)\n",
      "Requirement already satisfied: sqlalchemy>=1.3.22 in /opt/conda/lib/python3.11/site-packages (from duckdb-engine) (2.0.20)\n",
      "Requirement already satisfied: typing-extensions>=4.2.0 in /opt/conda/lib/python3.11/site-packages (from sqlalchemy>=1.3.22->duckdb-engine) (4.7.1)\n",
      "Requirement already satisfied: greenlet!=0.4.17 in /opt/conda/lib/python3.11/site-packages (from sqlalchemy>=1.3.22->duckdb-engine) (3.0.0rc3)\n",
      "Downloading duckdb_engine-0.9.2-py3-none-any.whl (43 kB)\n",
      "\u001b[2K   \u001b[90m━━━━━━━━━━━━━━━━━━━━━━━━━━━━━━━━━━━━━━━━\u001b[0m \u001b[32m43.1/43.1 kB\u001b[0m \u001b[31m994.5 kB/s\u001b[0m eta \u001b[36m0:00:00\u001b[0m\n",
      "\u001b[?25hInstalling collected packages: duckdb-engine\n",
      "Successfully installed duckdb-engine-0.9.2\n"
     ]
    }
   ],
   "source": [
    "! pip install duckdb-engine"
   ]
  },
  {
   "cell_type": "code",
   "execution_count": 20,
   "id": "f372150f-72d9-49dd-bede-e36d00413068",
   "metadata": {},
   "outputs": [],
   "source": [
    "import duckdb\n",
    "import pandas as pd"
   ]
  },
  {
   "cell_type": "code",
   "execution_count": 21,
   "id": "1401c5c2-4339-41de-9c02-823222138698",
   "metadata": {},
   "outputs": [
    {
     "name": "stdout",
     "output_type": "stream",
     "text": [
      "data/nyc_taxi/fhvhv_tripdata_2021-02.parquet\n",
      "data/nyc_taxi/fhvhv_tripdata_2021-03.parquet\n",
      "data/nyc_taxi/fhvhv_tripdata_2021-04.parquet\n",
      "data/nyc_taxi/fhvhv_tripdata_2021-05.parquet\n",
      "data/nyc_taxi/fhvhv_tripdata_2021-06.parquet\n",
      "data/nyc_taxi/fhvhv_tripdata_2021-07.parquet\n",
      "data/nyc_taxi/fhvhv_tripdata_2021-08.parquet\n",
      "data/nyc_taxi/fhvhv_tripdata_2021-09.parquet\n",
      "data/nyc_taxi/fhvhv_tripdata_2021-10.parquet\n",
      "data/nyc_taxi/fhvhv_tripdata_2021-11.parquet\n",
      "data/nyc_taxi/fhvhv_tripdata_2021-12.parquet\n",
      "data/nyc_taxi/fhvhv_tripdata_2022-01.parquet\n",
      "data/nyc_taxi/fhvhv_tripdata_2022-02.parquet\n",
      "data/nyc_taxi/fhvhv_tripdata_2022-03.parquet\n",
      "data/nyc_taxi/fhvhv_tripdata_2022-04.parquet\n",
      "data/nyc_taxi/fhvhv_tripdata_2022-05.parquet\n",
      "data/nyc_taxi/fhvhv_tripdata_2022-06.parquet\n",
      "data/nyc_taxi/fhvhv_tripdata_2022-07.parquet\n",
      "data/nyc_taxi/fhvhv_tripdata_2022-08.parquet\n",
      "data/nyc_taxi/fhvhv_tripdata_2022-09.parquet\n",
      "data/nyc_taxi/fhvhv_tripdata_2022-10.parquet\n",
      "data/nyc_taxi/fhvhv_tripdata_2022-11.parquet\n",
      "data/nyc_taxi/fhvhv_tripdata_2022-12.parquet\n",
      "data/nyc_taxi/fhvhv_tripdata_2023-01.parquet\n",
      "data/nyc_taxi/fhvhv_tripdata_2023-02.parquet\n",
      "data/nyc_taxi/fhvhv_tripdata_2023-03.parquet\n",
      "data/nyc_taxi/fhvhv_tripdata_2023-04.parquet\n",
      "data/nyc_taxi/fhvhv_tripdata_2023-05.parquet\n",
      "data/nyc_taxi/fhvhv_tripdata_2023-06.parquet\n"
     ]
    }
   ],
   "source": [
    "! ls data/nyc_taxi/fhvhv_*"
   ]
  },
  {
   "cell_type": "code",
   "execution_count": 22,
   "id": "e1fa0db6-1d1e-415c-b365-01121bb9ee6e",
   "metadata": {},
   "outputs": [],
   "source": [
    "%config SqlMagic.autopandas = True\n",
    "%config SqlMagic.feedback = False\n",
    "%config SqlMagic.displaycon = False"
   ]
  },
  {
   "cell_type": "code",
   "execution_count": 23,
   "id": "80af73a7-87d0-4e6b-9120-52c833140937",
   "metadata": {},
   "outputs": [
    {
     "name": "stdout",
     "output_type": "stream",
     "text": [
      "The sql extension is already loaded. To reload it, use:\n",
      "  %reload_ext sql\n"
     ]
    }
   ],
   "source": [
    "import duckdb\n",
    "%load_ext sql\n",
    "%sql duckdb:///:default:"
   ]
  },
  {
   "cell_type": "code",
   "execution_count": 25,
   "id": "356f4e70-b5e2-422e-9bff-4da89286b658",
   "metadata": {},
   "outputs": [
    {
     "data": {
      "application/vnd.jupyter.widget-view+json": {
       "model_id": "169c3413879c482e812f15db45eda171",
       "version_major": 2,
       "version_minor": 0
      },
      "text/plain": [
       "FloatProgress(value=0.0, layout=Layout(width='auto'), style=ProgressStyle(bar_color='black'))"
      ]
     },
     "metadata": {},
     "output_type": "display_data"
    },
    {
     "data": {
      "application/vnd.jupyter.widget-view+json": {
       "model_id": "60701896e37e46c9a067e07956ca5659",
       "version_major": 2,
       "version_minor": 0
      },
      "text/plain": [
       "FloatProgress(value=0.0, layout=Layout(width='auto'), style=ProgressStyle(bar_color='black'))"
      ]
     },
     "metadata": {},
     "output_type": "display_data"
    },
    {
     "name": "stdout",
     "output_type": "stream",
     "text": [
      "CPU times: user 59.8 s, sys: 2.94 s, total: 1min 2s\n",
      "Wall time: 7.35 s\n"
     ]
    }
   ],
   "source": [
    "%%time\n",
    "%%sql\n",
    "SELECT dispatching_base_num, COUNT(dispatching_base_num) FROM read_parquet('data/nyc_taxi/fhvhv_tripdata_*.parquet')\n",
    "GROUP BY dispatching_base_num\n",
    "ORDER BY COUNT(dispatching_base_num) DESC;"
   ]
  },
  {
   "cell_type": "code",
   "execution_count": 26,
   "id": "53774592-1786-43f0-9ea8-c0bd259174e7",
   "metadata": {},
   "outputs": [],
   "source": [
    "input_df = pd.DataFrame.from_dict({\"i\":[1, 2, 3],\n",
    "                                  \"j\":[\"one\", \"two\", \"three\"]})"
   ]
  },
  {
   "cell_type": "code",
   "execution_count": 27,
   "id": "f7a0d265-78d6-4288-aaa0-de675bf56d91",
   "metadata": {},
   "outputs": [],
   "source": [
    "%sql output_df << SELECT sum(i) AS total_i FROM input_df"
   ]
  },
  {
   "cell_type": "code",
   "execution_count": 28,
   "id": "f1c3e9b7-ffc3-4c4f-b5bd-8d3e94548d90",
   "metadata": {},
   "outputs": [
    {
     "data": {
      "text/html": [
       "<div>\n",
       "<style scoped>\n",
       "    .dataframe tbody tr th:only-of-type {\n",
       "        vertical-align: middle;\n",
       "    }\n",
       "\n",
       "    .dataframe tbody tr th {\n",
       "        vertical-align: top;\n",
       "    }\n",
       "\n",
       "    .dataframe thead th {\n",
       "        text-align: right;\n",
       "    }\n",
       "</style>\n",
       "<table border=\"1\" class=\"dataframe\">\n",
       "  <thead>\n",
       "    <tr style=\"text-align: right;\">\n",
       "      <th></th>\n",
       "      <th>total_i</th>\n",
       "    </tr>\n",
       "  </thead>\n",
       "  <tbody>\n",
       "    <tr>\n",
       "      <th>0</th>\n",
       "      <td>6.0</td>\n",
       "    </tr>\n",
       "  </tbody>\n",
       "</table>\n",
       "</div>"
      ],
      "text/plain": [
       "   total_i\n",
       "0      6.0"
      ]
     },
     "execution_count": 28,
     "metadata": {},
     "output_type": "execute_result"
    }
   ],
   "source": [
    "output_df"
   ]
  }
 ],
 "metadata": {
  "kernelspec": {
   "display_name": "Python 3 (ipykernel)",
   "language": "python",
   "name": "python3"
  },
  "language_info": {
   "codemirror_mode": {
    "name": "ipython",
    "version": 3
   },
   "file_extension": ".py",
   "mimetype": "text/x-python",
   "name": "python",
   "nbconvert_exporter": "python",
   "pygments_lexer": "ipython3",
   "version": "3.11.5"
  }
 },
 "nbformat": 4,
 "nbformat_minor": 5
}
